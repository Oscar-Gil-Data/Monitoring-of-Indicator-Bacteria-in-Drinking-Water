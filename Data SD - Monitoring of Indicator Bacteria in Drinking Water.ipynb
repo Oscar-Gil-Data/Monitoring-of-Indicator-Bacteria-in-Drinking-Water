{
  "cells": [
    {
      "attachments": {},
      "cell_type": "markdown",
      "metadata": {
        "id": "q1V_W21ykJlV"
      },
      "source": [
        "#### City of San Diego - Data SD\n",
        "* Dataset name: Monitoring of Indicator Bacteria in Drinking Water\n",
        "* URL: https://data.sandiego.gov/datasets/monitoring-of-indicator-bacteria-in-drinking-water/"
      ]
    },
    {
      "cell_type": "code",
      "execution_count": 1,
      "metadata": {
        "id": "3c5HE4DCj_VI"
      },
      "outputs": [],
      "source": [
        "import pandas as pd\n",
        "import numpy as np\n",
        "\n",
        "import datetime\n",
        "from dateutil import parser # to validate if string values are dates\n",
        "\n",
        "import warnings \n",
        "warnings.filterwarnings(action= 'ignore')"
      ]
    },
    {
      "cell_type": "markdown",
      "metadata": {},
      "source": [
        "#### Analyze the data frame"
      ]
    },
    {
      "cell_type": "code",
      "execution_count": 2,
      "metadata": {},
      "outputs": [],
      "source": [
        "def dataframe_columns(df):\n",
        "\n",
        "    print('Shape: ', df.shape)\n",
        "\n",
        "    columns_value_counts = []\n",
        "\n",
        "    for cols in (df.columns):\n",
        "        columns_value_counts.append({'column': cols,\n",
        "        'dtype': df[cols].dtypes,\n",
        "        'null_total': df[cols].isnull().sum(),\n",
        "        'null_pct': round(df[cols].isnull().sum() / df.shape[0] * 100, 2),\n",
        "        'unique_values_total': df[cols].nunique(),\n",
        "        'max_unique_value': df[cols].astype(str).value_counts().to_frame().head(1).reset_index()['index'][0],\n",
        "        'max_unique_value_total': df[cols].astype(str).value_counts().to_frame().head(1).reset_index(drop=True)[cols].values[0],\n",
        "        'max_unique_value_pct': round(df[cols].astype(str).value_counts().to_frame().head(1).reset_index(drop=True)[cols].values[0] / df.shape[0] * 100, 2)})\n",
        "\n",
        "    return pd.DataFrame(columns_value_counts)"
      ]
    },
    {
      "cell_type": "markdown",
      "metadata": {},
      "source": [
        "#### Import data"
      ]
    },
    {
      "cell_type": "code",
      "execution_count": 6,
      "metadata": {},
      "outputs": [
        {
          "name": "stdout",
          "output_type": "stream",
          "text": [
            "\"pH: potential of hydrogen. pH is a measure of how acidic or basic water is. \n",
            "The range goes from 0 - 14, with 7 being neutral. pHs of less than 7 indicate acidity, \n",
            "whereas pHs greater than 7 are basic (The City of San Diego, 2022, p.8).\n",
            "\n",
            "References: \n",
            "The City of San Diego. (2022). The City of San Diego Annual Drinking Water Quality Report 2022. https://www.sandiego.gov/sites/default/files/hyperlink_wqr_2022.pdf\n",
            "\n",
            "pH categories:\n",
            "      Neutral = 7\n",
            "      Acidity < 7\n",
            "      Basic   > 7\n",
            "\n"
          ]
        },
        {
          "data": {
            "text/html": [
              "<div>\n",
              "<style scoped>\n",
              "    .dataframe tbody tr th:only-of-type {\n",
              "        vertical-align: middle;\n",
              "    }\n",
              "\n",
              "    .dataframe tbody tr th {\n",
              "        vertical-align: top;\n",
              "    }\n",
              "\n",
              "    .dataframe thead th {\n",
              "        text-align: right;\n",
              "    }\n",
              "</style>\n",
              "<table border=\"1\" class=\"dataframe\">\n",
              "  <thead>\n",
              "    <tr style=\"text-align: right;\">\n",
              "      <th></th>\n",
              "      <th>Field</th>\n",
              "      <th>Description</th>\n",
              "      <th>Possible values</th>\n",
              "    </tr>\n",
              "  </thead>\n",
              "  <tbody>\n",
              "    <tr>\n",
              "      <th>0</th>\n",
              "      <td>sample_date</td>\n",
              "      <td>Date sample was taken</td>\n",
              "      <td></td>\n",
              "    </tr>\n",
              "    <tr>\n",
              "      <th>1</th>\n",
              "      <td>site_ID</td>\n",
              "      <td>Unique identifier for the sample site</td>\n",
              "      <td></td>\n",
              "    </tr>\n",
              "    <tr>\n",
              "      <th>2</th>\n",
              "      <td>temp_celsius</td>\n",
              "      <td>Temperature in Celsius</td>\n",
              "      <td></td>\n",
              "    </tr>\n",
              "    <tr>\n",
              "      <th>3</th>\n",
              "      <td>chlorine</td>\n",
              "      <td>Chlorine in mg/l or ppm</td>\n",
              "      <td></td>\n",
              "    </tr>\n",
              "    <tr>\n",
              "      <th>4</th>\n",
              "      <td>pH</td>\n",
              "      <td>pH of water sample</td>\n",
              "      <td>0-14</td>\n",
              "    </tr>\n",
              "    <tr>\n",
              "      <th>5</th>\n",
              "      <td>coliform</td>\n",
              "      <td>Presence of Coliform indicator bacteria</td>\n",
              "      <td>A-Absent, P-Present</td>\n",
              "    </tr>\n",
              "    <tr>\n",
              "      <th>6</th>\n",
              "      <td>E.coli</td>\n",
              "      <td>Presence of E.coli indicator bacteria</td>\n",
              "      <td>A-Absent, P-Present</td>\n",
              "    </tr>\n",
              "  </tbody>\n",
              "</table>\n",
              "</div>"
            ],
            "text/plain": [
              "          Field                              Description      Possible values\n",
              "0   sample_date                    Date sample was taken                     \n",
              "1       site_ID    Unique identifier for the sample site                     \n",
              "2  temp_celsius                   Temperature in Celsius                     \n",
              "3      chlorine                  Chlorine in mg/l or ppm                     \n",
              "4            pH                       pH of water sample                 0-14\n",
              "5      coliform  Presence of Coliform indicator bacteria  A-Absent, P-Present\n",
              "6        E.coli    Presence of E.coli indicator bacteria  A-Absent, P-Present"
            ]
          },
          "execution_count": 6,
          "metadata": {},
          "output_type": "execute_result"
        }
      ],
      "source": [
        "print('''\"pH: potential of hydrogen. pH is a measure of how acidic or basic water is. \n",
        "The range goes from 0 - 14, with 7 being neutral. pHs of less than 7 indicate acidity, \n",
        "whereas pHs greater than 7 are basic (The City of San Diego, 2022, p.8).\n",
        "''')\n",
        "\n",
        "print('''References: \n",
        "The City of San Diego. (2022). The City of San Diego Annual Drinking Water Quality Report 2022. https://www.sandiego.gov/sites/default/files/hyperlink_wqr_2022.pdf''')\n",
        "\n",
        "\n",
        "# Data Dictionary provided by source\n",
        "dict_df = pd.read_csv('https://seshat.datasd.org/water_testing/indicator_bacteria_tests_dictionary_datasd.csv').fillna('')\n",
        "\n",
        "\n",
        "print('''\n",
        "pH categories:\n",
        "      Neutral = 7\n",
        "      Acidity < 7\n",
        "      Basic   > 7\n",
        "''')\n",
        "\n",
        "\n",
        "dict_df"
      ]
    },
    {
      "cell_type": "code",
      "execution_count": 7,
      "metadata": {
        "colab": {
          "base_uri": "https://localhost:8080/"
        },
        "id": "_erexiSNkM5V",
        "outputId": "e31146b4-d4ea-437d-9fd0-c476e71503a4"
      },
      "outputs": [],
      "source": [
        "# All Drinking Water Tests(Bacteria)\n",
        "df = pd.read_csv('https://seshat.datasd.org/water_testing/indicator_bacteria_tests_datasd_v1.csv')"
      ]
    },
    {
      "cell_type": "code",
      "execution_count": 8,
      "metadata": {},
      "outputs": [],
      "source": [
        "# Drinking Water Sample Sites\n",
        "# https://data.sandiego.gov/datasets/drinking-water-sample-sites/\n",
        "\n",
        "df_sample_sites = pd.read_csv('https://seshat.datasd.org/drinking_water_sample_sites/sample_sites_datasd.csv')"
      ]
    },
    {
      "cell_type": "code",
      "execution_count": 15,
      "metadata": {},
      "outputs": [],
      "source": [
        "# Merge Sample Site data into main data frame\n",
        "df = df.merge(df_sample_sites, left_on='source', right_on='site_ID', how='left')"
      ]
    },
    {
      "cell_type": "code",
      "execution_count": 5,
      "metadata": {},
      "outputs": [],
      "source": [
        "# account for ph categories\n",
        "df['ph_cat'] = np.where(df.ph == 7, 'Neutral=7',\n",
        "                 np.where(df.ph < 7, 'Acidity<7',\n",
        "                   np.where(df.ph > 7, 'Basic>7', 'Missing')))"
      ]
    },
    {
      "cell_type": "markdown",
      "metadata": {},
      "source": [
        "#### Check dataframe #1"
      ]
    },
    {
      "cell_type": "code",
      "execution_count": 16,
      "metadata": {},
      "outputs": [
        {
          "name": "stdout",
          "output_type": "stream",
          "text": [
            "Shape:  (85095, 17)\n"
          ]
        },
        {
          "data": {
            "text/html": [
              "<div>\n",
              "<style scoped>\n",
              "    .dataframe tbody tr th:only-of-type {\n",
              "        vertical-align: middle;\n",
              "    }\n",
              "\n",
              "    .dataframe tbody tr th {\n",
              "        vertical-align: top;\n",
              "    }\n",
              "\n",
              "    .dataframe thead th {\n",
              "        text-align: right;\n",
              "    }\n",
              "</style>\n",
              "<table border=\"1\" class=\"dataframe\">\n",
              "  <thead>\n",
              "    <tr style=\"text-align: right;\">\n",
              "      <th></th>\n",
              "      <th>column</th>\n",
              "      <th>dtype</th>\n",
              "      <th>null_total</th>\n",
              "      <th>null_pct</th>\n",
              "      <th>unique_values_total</th>\n",
              "      <th>max_unique_value</th>\n",
              "      <th>max_unique_value_total</th>\n",
              "      <th>max_unique_value_pct</th>\n",
              "    </tr>\n",
              "  </thead>\n",
              "  <tbody>\n",
              "    <tr>\n",
              "      <th>0</th>\n",
              "      <td>FR_NUM</td>\n",
              "      <td>int64</td>\n",
              "      <td>0</td>\n",
              "      <td>0.00</td>\n",
              "      <td>62122</td>\n",
              "      <td>404447</td>\n",
              "      <td>16</td>\n",
              "      <td>0.02</td>\n",
              "    </tr>\n",
              "    <tr>\n",
              "      <th>1</th>\n",
              "      <td>date_sampled</td>\n",
              "      <td>object</td>\n",
              "      <td>0</td>\n",
              "      <td>0.00</td>\n",
              "      <td>1971</td>\n",
              "      <td>2020-01-02</td>\n",
              "      <td>155</td>\n",
              "      <td>0.18</td>\n",
              "    </tr>\n",
              "    <tr>\n",
              "      <th>2</th>\n",
              "      <td>source</td>\n",
              "      <td>object</td>\n",
              "      <td>0</td>\n",
              "      <td>0.00</td>\n",
              "      <td>156</td>\n",
              "      <td>307 SYS</td>\n",
              "      <td>2382</td>\n",
              "      <td>2.80</td>\n",
              "    </tr>\n",
              "    <tr>\n",
              "      <th>3</th>\n",
              "      <td>sample_id</td>\n",
              "      <td>object</td>\n",
              "      <td>0</td>\n",
              "      <td>0.00</td>\n",
              "      <td>62122</td>\n",
              "      <td>W1598494</td>\n",
              "      <td>16</td>\n",
              "      <td>0.02</td>\n",
              "    </tr>\n",
              "    <tr>\n",
              "      <th>4</th>\n",
              "      <td>t_coliform</td>\n",
              "      <td>object</td>\n",
              "      <td>69</td>\n",
              "      <td>0.08</td>\n",
              "      <td>3</td>\n",
              "      <td>A</td>\n",
              "      <td>84792</td>\n",
              "      <td>99.64</td>\n",
              "    </tr>\n",
              "    <tr>\n",
              "      <th>5</th>\n",
              "      <td>cl2_total</td>\n",
              "      <td>float64</td>\n",
              "      <td>0</td>\n",
              "      <td>0.00</td>\n",
              "      <td>364</td>\n",
              "      <td>2.5</td>\n",
              "      <td>2447</td>\n",
              "      <td>2.88</td>\n",
              "    </tr>\n",
              "    <tr>\n",
              "      <th>6</th>\n",
              "      <td>e_coli</td>\n",
              "      <td>object</td>\n",
              "      <td>58</td>\n",
              "      <td>0.07</td>\n",
              "      <td>2</td>\n",
              "      <td>A</td>\n",
              "      <td>84919</td>\n",
              "      <td>99.79</td>\n",
              "    </tr>\n",
              "    <tr>\n",
              "      <th>7</th>\n",
              "      <td>temperature</td>\n",
              "      <td>float64</td>\n",
              "      <td>0</td>\n",
              "      <td>0.00</td>\n",
              "      <td>222</td>\n",
              "      <td>17.4</td>\n",
              "      <td>911</td>\n",
              "      <td>1.07</td>\n",
              "    </tr>\n",
              "    <tr>\n",
              "      <th>8</th>\n",
              "      <td>ph</td>\n",
              "      <td>float64</td>\n",
              "      <td>0</td>\n",
              "      <td>0.00</td>\n",
              "      <td>159</td>\n",
              "      <td>8.11</td>\n",
              "      <td>2501</td>\n",
              "      <td>2.94</td>\n",
              "    </tr>\n",
              "    <tr>\n",
              "      <th>9</th>\n",
              "      <td>site_ID</td>\n",
              "      <td>object</td>\n",
              "      <td>3177</td>\n",
              "      <td>3.73</td>\n",
              "      <td>148</td>\n",
              "      <td>nan</td>\n",
              "      <td>3177</td>\n",
              "      <td>3.73</td>\n",
              "    </tr>\n",
              "    <tr>\n",
              "      <th>10</th>\n",
              "      <td>pressure_zone_name</td>\n",
              "      <td>object</td>\n",
              "      <td>3177</td>\n",
              "      <td>3.73</td>\n",
              "      <td>124</td>\n",
              "      <td>nan</td>\n",
              "      <td>3177</td>\n",
              "      <td>3.73</td>\n",
              "    </tr>\n",
              "    <tr>\n",
              "      <th>11</th>\n",
              "      <td>pressure_zone_elevation</td>\n",
              "      <td>float64</td>\n",
              "      <td>3177</td>\n",
              "      <td>3.73</td>\n",
              "      <td>80</td>\n",
              "      <td>536.0</td>\n",
              "      <td>6595</td>\n",
              "      <td>7.75</td>\n",
              "    </tr>\n",
              "    <tr>\n",
              "      <th>12</th>\n",
              "      <td>connections_count</td>\n",
              "      <td>float64</td>\n",
              "      <td>3177</td>\n",
              "      <td>3.73</td>\n",
              "      <td>121</td>\n",
              "      <td>nan</td>\n",
              "      <td>3177</td>\n",
              "      <td>3.73</td>\n",
              "    </tr>\n",
              "    <tr>\n",
              "      <th>13</th>\n",
              "      <td>location_description</td>\n",
              "      <td>object</td>\n",
              "      <td>3177</td>\n",
              "      <td>3.73</td>\n",
              "      <td>148</td>\n",
              "      <td>nan</td>\n",
              "      <td>3177</td>\n",
              "      <td>3.73</td>\n",
              "    </tr>\n",
              "    <tr>\n",
              "      <th>14</th>\n",
              "      <td>lat</td>\n",
              "      <td>float64</td>\n",
              "      <td>3177</td>\n",
              "      <td>3.73</td>\n",
              "      <td>148</td>\n",
              "      <td>nan</td>\n",
              "      <td>3177</td>\n",
              "      <td>3.73</td>\n",
              "    </tr>\n",
              "    <tr>\n",
              "      <th>15</th>\n",
              "      <td>lng</td>\n",
              "      <td>float64</td>\n",
              "      <td>3177</td>\n",
              "      <td>3.73</td>\n",
              "      <td>148</td>\n",
              "      <td>nan</td>\n",
              "      <td>3177</td>\n",
              "      <td>3.73</td>\n",
              "    </tr>\n",
              "    <tr>\n",
              "      <th>16</th>\n",
              "      <td>frequency_sampled</td>\n",
              "      <td>object</td>\n",
              "      <td>3177</td>\n",
              "      <td>3.73</td>\n",
              "      <td>2</td>\n",
              "      <td>Weekly</td>\n",
              "      <td>76844</td>\n",
              "      <td>90.30</td>\n",
              "    </tr>\n",
              "  </tbody>\n",
              "</table>\n",
              "</div>"
            ],
            "text/plain": [
              "                     column    dtype  null_total  null_pct  \\\n",
              "0                    FR_NUM    int64           0      0.00   \n",
              "1              date_sampled   object           0      0.00   \n",
              "2                    source   object           0      0.00   \n",
              "3                 sample_id   object           0      0.00   \n",
              "4                t_coliform   object          69      0.08   \n",
              "5                 cl2_total  float64           0      0.00   \n",
              "6                    e_coli   object          58      0.07   \n",
              "7               temperature  float64           0      0.00   \n",
              "8                        ph  float64           0      0.00   \n",
              "9                   site_ID   object        3177      3.73   \n",
              "10       pressure_zone_name   object        3177      3.73   \n",
              "11  pressure_zone_elevation  float64        3177      3.73   \n",
              "12        connections_count  float64        3177      3.73   \n",
              "13     location_description   object        3177      3.73   \n",
              "14                      lat  float64        3177      3.73   \n",
              "15                      lng  float64        3177      3.73   \n",
              "16        frequency_sampled   object        3177      3.73   \n",
              "\n",
              "    unique_values_total max_unique_value  max_unique_value_total  \\\n",
              "0                 62122           404447                      16   \n",
              "1                  1971       2020-01-02                     155   \n",
              "2                   156          307 SYS                    2382   \n",
              "3                 62122         W1598494                      16   \n",
              "4                     3                A                   84792   \n",
              "5                   364              2.5                    2447   \n",
              "6                     2                A                   84919   \n",
              "7                   222             17.4                     911   \n",
              "8                   159             8.11                    2501   \n",
              "9                   148              nan                    3177   \n",
              "10                  124              nan                    3177   \n",
              "11                   80            536.0                    6595   \n",
              "12                  121              nan                    3177   \n",
              "13                  148              nan                    3177   \n",
              "14                  148              nan                    3177   \n",
              "15                  148              nan                    3177   \n",
              "16                    2           Weekly                   76844   \n",
              "\n",
              "    max_unique_value_pct  \n",
              "0                   0.02  \n",
              "1                   0.18  \n",
              "2                   2.80  \n",
              "3                   0.02  \n",
              "4                  99.64  \n",
              "5                   2.88  \n",
              "6                  99.79  \n",
              "7                   1.07  \n",
              "8                   2.94  \n",
              "9                   3.73  \n",
              "10                  3.73  \n",
              "11                  7.75  \n",
              "12                  3.73  \n",
              "13                  3.73  \n",
              "14                  3.73  \n",
              "15                  3.73  \n",
              "16                 90.30  "
            ]
          },
          "execution_count": 16,
          "metadata": {},
          "output_type": "execute_result"
        }
      ],
      "source": [
        "dataframe_columns(df)"
      ]
    },
    {
      "cell_type": "markdown",
      "metadata": {},
      "source": [
        "##### FR_NUM and source analysis"
      ]
    },
    {
      "cell_type": "code",
      "execution_count": 7,
      "metadata": {},
      "outputs": [
        {
          "data": {
            "text/plain": [
              "(2745, 1)"
            ]
          },
          "execution_count": 7,
          "metadata": {},
          "output_type": "execute_result"
        }
      ],
      "source": [
        "# load sample_id value counts into dictionary\n",
        "sample_id_dict = dict(df.sample_id.value_counts())\n",
        "\n",
        "# identify sample_id values with multiple rows, and place their value into a list\n",
        "sample_id_duplicates_list = []\n",
        "\n",
        "for v, k in sample_id_dict.items():\n",
        "    \"\"\" Only return sample_id values that are represented in multiple rows\"\"\"\n",
        "    if k > 1:\n",
        "        sample_id_duplicates_list.append(v)\n",
        "\n",
        "# shape of rows containing duplicate sample_id values\n",
        "pd.DataFrame(sample_id_duplicates_list).shape"
      ]
    },
    {
      "cell_type": "code",
      "execution_count": 36,
      "metadata": {},
      "outputs": [
        {
          "name": "stdout",
          "output_type": "stream",
          "text": [
            "Querying the sample_id values identified to have multiple rows, shows that FR_NUM, date_sampled, source, \n",
            "sample_id, t_coliform, and e_coli are the same values for these multiple rows; however, \n",
            "cl2_total, temperature, and ph have similar values but not the same.\n"
          ]
        },
        {
          "data": {
            "text/html": [
              "<div>\n",
              "<style scoped>\n",
              "    .dataframe tbody tr th:only-of-type {\n",
              "        vertical-align: middle;\n",
              "    }\n",
              "\n",
              "    .dataframe tbody tr th {\n",
              "        vertical-align: top;\n",
              "    }\n",
              "\n",
              "    .dataframe thead th {\n",
              "        text-align: right;\n",
              "    }\n",
              "</style>\n",
              "<table border=\"1\" class=\"dataframe\">\n",
              "  <thead>\n",
              "    <tr style=\"text-align: right;\">\n",
              "      <th></th>\n",
              "      <th>FR_NUM</th>\n",
              "      <th>date_sampled</th>\n",
              "      <th>source</th>\n",
              "      <th>sample_id</th>\n",
              "      <th>t_coliform</th>\n",
              "      <th>cl2_total</th>\n",
              "      <th>e_coli</th>\n",
              "      <th>temperature</th>\n",
              "      <th>ph</th>\n",
              "      <th>ph_cat</th>\n",
              "    </tr>\n",
              "  </thead>\n",
              "  <tbody>\n",
              "    <tr>\n",
              "      <th>80602</th>\n",
              "      <td>397140</td>\n",
              "      <td>2023-04-11</td>\n",
              "      <td>234A SYS</td>\n",
              "      <td>W1565788</td>\n",
              "      <td>A</td>\n",
              "      <td>2.2</td>\n",
              "      <td>A</td>\n",
              "      <td>17.8</td>\n",
              "      <td>8.15</td>\n",
              "      <td>Basic&gt;7</td>\n",
              "    </tr>\n",
              "    <tr>\n",
              "      <th>80603</th>\n",
              "      <td>397140</td>\n",
              "      <td>2023-04-11</td>\n",
              "      <td>234A SYS</td>\n",
              "      <td>W1565788</td>\n",
              "      <td>A</td>\n",
              "      <td>2.2</td>\n",
              "      <td>A</td>\n",
              "      <td>17.8</td>\n",
              "      <td>8.14</td>\n",
              "      <td>Basic&gt;7</td>\n",
              "    </tr>\n",
              "    <tr>\n",
              "      <th>80604</th>\n",
              "      <td>397140</td>\n",
              "      <td>2023-04-11</td>\n",
              "      <td>234A SYS</td>\n",
              "      <td>W1565788</td>\n",
              "      <td>A</td>\n",
              "      <td>2.2</td>\n",
              "      <td>A</td>\n",
              "      <td>18.0</td>\n",
              "      <td>8.15</td>\n",
              "      <td>Basic&gt;7</td>\n",
              "    </tr>\n",
              "    <tr>\n",
              "      <th>80605</th>\n",
              "      <td>397140</td>\n",
              "      <td>2023-04-11</td>\n",
              "      <td>234A SYS</td>\n",
              "      <td>W1565788</td>\n",
              "      <td>A</td>\n",
              "      <td>2.2</td>\n",
              "      <td>A</td>\n",
              "      <td>18.0</td>\n",
              "      <td>8.14</td>\n",
              "      <td>Basic&gt;7</td>\n",
              "    </tr>\n",
              "  </tbody>\n",
              "</table>\n",
              "</div>"
            ],
            "text/plain": [
              "       FR_NUM date_sampled    source sample_id t_coliform  cl2_total e_coli  \\\n",
              "80602  397140   2023-04-11  234A SYS  W1565788          A        2.2      A   \n",
              "80603  397140   2023-04-11  234A SYS  W1565788          A        2.2      A   \n",
              "80604  397140   2023-04-11  234A SYS  W1565788          A        2.2      A   \n",
              "80605  397140   2023-04-11  234A SYS  W1565788          A        2.2      A   \n",
              "\n",
              "       temperature    ph   ph_cat  \n",
              "80602         17.8  8.15  Basic>7  \n",
              "80603         17.8  8.14  Basic>7  \n",
              "80604         18.0  8.15  Basic>7  \n",
              "80605         18.0  8.14  Basic>7  "
            ]
          },
          "execution_count": 36,
          "metadata": {},
          "output_type": "execute_result"
        }
      ],
      "source": [
        "for si in (pd.DataFrame(sample_id_duplicates_list)[0].sample(1)):\n",
        "    sample_id_var = si\n",
        "\n",
        "print('''Querying the sample_id values identified to have multiple rows, shows that FR_NUM, date_sampled, source, \n",
        "sample_id, t_coliform, and e_coli are the same values for these multiple rows; however, \n",
        "cl2_total, temperature, and ph have similar values but not the same.''')\n",
        "\n",
        "df.query(\"sample_id == @sample_id_var\").drop_duplicates()"
      ]
    },
    {
      "cell_type": "code",
      "execution_count": 37,
      "metadata": {},
      "outputs": [],
      "source": [
        "# Create dataframe from value_counts to identify columns that can be updated, as they appear to be duplicates\n",
        "df2 = df[['FR_NUM', 'date_sampled', 'source', 'sample_id']].value_counts().to_frame(name='Counts')\n",
        "\n",
        "df2 = df2.reset_index() # places \"Counts\" into the header row with all other columns\n",
        "\n",
        "# Only keep columns with Counts greater than 1\n",
        "df2 = df2.query(\"Counts > 1\")\n",
        "\n",
        "# Merge values from original dataframe, to get averages for these rows requiring averages for duplicate rows\n",
        "df2 = df2.merge(df, left_on=('FR_NUM', 'date_sampled', 'source', 'sample_id'), right_on=('FR_NUM', 'date_sampled', 'source', 'sample_id'), how=\"inner\")"
      ]
    },
    {
      "cell_type": "code",
      "execution_count": 38,
      "metadata": {},
      "outputs": [],
      "source": [
        "# Itirate through sample_id values with multiply rows to get averages from their means for:\n",
        "# cl2_total, temperature, and ph\n",
        "\n",
        "df2_means = []\n",
        "\n",
        "for si in (set(sample_id_duplicates_list)):\n",
        "\n",
        "    df2_means.append({'sample_id': si,\n",
        "                      'cl2_total_mean': round(df.query(\"sample_id == @si\").cl2_total.mean(),1),\n",
        "                      'temperature_mean': round(df.query(\"sample_id == @si\").temperature.mean(),1),\n",
        "                      'ph_mean': round(df.query(\"sample_id == @si\").ph.mean(),1),\n",
        "                      'sample_id_duplicate': 1})"
      ]
    },
    {
      "cell_type": "code",
      "execution_count": 39,
      "metadata": {},
      "outputs": [],
      "source": [
        "# Merge average values into original dataframe\n",
        "# The use of \"left\" join in the merge statement above, leaves non-duplicate values empty\n",
        "# ensuring no loss of data\n",
        "df = df.merge(pd.DataFrame(df2_means), left_on=('sample_id'), right_on=('sample_id'), how=\"left\")"
      ]
    },
    {
      "cell_type": "code",
      "execution_count": 40,
      "metadata": {},
      "outputs": [],
      "source": [
        "# Make updates to duplicate sample_id respective features with their means\n",
        "# in the fillna statements below:\n",
        "df['cl2_total'] = np.where(df.cl2_total_mean.fillna(\"\") != \"\", df.cl2_total_mean, df.cl2_total)\n",
        "df['temperature'] = np.where(df.temperature_mean.fillna(\"\") != \"\", df.temperature_mean, df.temperature)\n",
        "df['ph'] = np.where(df.ph_mean.fillna(\"\") != \"\", df.ph_mean, df.ph)"
      ]
    },
    {
      "cell_type": "code",
      "execution_count": 49,
      "metadata": {},
      "outputs": [],
      "source": [
        "# With all variations gone, we can now drop duplicates.\n",
        "df.drop_duplicates(inplace=True)"
      ]
    },
    {
      "cell_type": "code",
      "execution_count": 42,
      "metadata": {},
      "outputs": [
        {
          "data": {
            "text/html": [
              "<div>\n",
              "<style scoped>\n",
              "    .dataframe tbody tr th:only-of-type {\n",
              "        vertical-align: middle;\n",
              "    }\n",
              "\n",
              "    .dataframe tbody tr th {\n",
              "        vertical-align: top;\n",
              "    }\n",
              "\n",
              "    .dataframe thead th {\n",
              "        text-align: right;\n",
              "    }\n",
              "</style>\n",
              "<table border=\"1\" class=\"dataframe\">\n",
              "  <thead>\n",
              "    <tr style=\"text-align: right;\">\n",
              "      <th></th>\n",
              "      <th>FR_NUM</th>\n",
              "      <th>date_sampled</th>\n",
              "      <th>source</th>\n",
              "      <th>sample_id</th>\n",
              "      <th>t_coliform</th>\n",
              "      <th>cl2_total</th>\n",
              "      <th>e_coli</th>\n",
              "      <th>temperature</th>\n",
              "      <th>ph</th>\n",
              "      <th>ph_cat</th>\n",
              "      <th>cl2_total_mean</th>\n",
              "      <th>temperature_mean</th>\n",
              "      <th>ph_mean</th>\n",
              "      <th>sample_id_duplicate</th>\n",
              "    </tr>\n",
              "  </thead>\n",
              "  <tbody>\n",
              "    <tr>\n",
              "      <th>80602</th>\n",
              "      <td>397140</td>\n",
              "      <td>2023-04-11</td>\n",
              "      <td>234A SYS</td>\n",
              "      <td>W1565788</td>\n",
              "      <td>A</td>\n",
              "      <td>2.2</td>\n",
              "      <td>A</td>\n",
              "      <td>17.9</td>\n",
              "      <td>8.1</td>\n",
              "      <td>Basic&gt;7</td>\n",
              "      <td>2.2</td>\n",
              "      <td>17.9</td>\n",
              "      <td>8.1</td>\n",
              "      <td>1.0</td>\n",
              "    </tr>\n",
              "  </tbody>\n",
              "</table>\n",
              "</div>"
            ],
            "text/plain": [
              "       FR_NUM date_sampled    source sample_id t_coliform  cl2_total e_coli  \\\n",
              "80602  397140   2023-04-11  234A SYS  W1565788          A        2.2      A   \n",
              "\n",
              "       temperature   ph   ph_cat  cl2_total_mean  temperature_mean  ph_mean  \\\n",
              "80602         17.9  8.1  Basic>7             2.2              17.9      8.1   \n",
              "\n",
              "       sample_id_duplicate  \n",
              "80602                  1.0  "
            ]
          },
          "execution_count": 42,
          "metadata": {},
          "output_type": "execute_result"
        }
      ],
      "source": [
        "# Review of sample_id referenced, to confirm single row returned with mean values\n",
        "df.query(\"sample_id == @sample_id_var\")"
      ]
    },
    {
      "cell_type": "code",
      "execution_count": 43,
      "metadata": {},
      "outputs": [],
      "source": [
        "# Drop unnecessary columns for remainder of the process - used in previous steps\n",
        "df.drop(['cl2_total_mean', 'temperature_mean', 'ph_mean'], axis=1, inplace=True)"
      ]
    },
    {
      "cell_type": "code",
      "execution_count": 44,
      "metadata": {},
      "outputs": [],
      "source": [
        "# update sample_id_duplicate values to account for missing and convert from float to int\n",
        "df.sample_id_duplicate = df.sample_id_duplicate.fillna(0).astype(int)"
      ]
    },
    {
      "cell_type": "markdown",
      "metadata": {},
      "source": [
        "#### Check dataframe #2"
      ]
    },
    {
      "cell_type": "code",
      "execution_count": 50,
      "metadata": {},
      "outputs": [
        {
          "name": "stdout",
          "output_type": "stream",
          "text": [
            "Shape:  (62122, 11)\n"
          ]
        },
        {
          "data": {
            "text/html": [
              "<div>\n",
              "<style scoped>\n",
              "    .dataframe tbody tr th:only-of-type {\n",
              "        vertical-align: middle;\n",
              "    }\n",
              "\n",
              "    .dataframe tbody tr th {\n",
              "        vertical-align: top;\n",
              "    }\n",
              "\n",
              "    .dataframe thead th {\n",
              "        text-align: right;\n",
              "    }\n",
              "</style>\n",
              "<table border=\"1\" class=\"dataframe\">\n",
              "  <thead>\n",
              "    <tr style=\"text-align: right;\">\n",
              "      <th></th>\n",
              "      <th>column</th>\n",
              "      <th>dtype</th>\n",
              "      <th>null_total</th>\n",
              "      <th>null_pct</th>\n",
              "      <th>unique_values_total</th>\n",
              "      <th>max_unique_value</th>\n",
              "      <th>max_unique_value_total</th>\n",
              "      <th>max_unique_value_pct</th>\n",
              "    </tr>\n",
              "  </thead>\n",
              "  <tbody>\n",
              "    <tr>\n",
              "      <th>0</th>\n",
              "      <td>FR_NUM</td>\n",
              "      <td>int64</td>\n",
              "      <td>0</td>\n",
              "      <td>0.00</td>\n",
              "      <td>62122</td>\n",
              "      <td>244324</td>\n",
              "      <td>1</td>\n",
              "      <td>0.00</td>\n",
              "    </tr>\n",
              "    <tr>\n",
              "      <th>1</th>\n",
              "      <td>date_sampled</td>\n",
              "      <td>object</td>\n",
              "      <td>0</td>\n",
              "      <td>0.00</td>\n",
              "      <td>1971</td>\n",
              "      <td>2020-01-02</td>\n",
              "      <td>87</td>\n",
              "      <td>0.14</td>\n",
              "    </tr>\n",
              "    <tr>\n",
              "      <th>2</th>\n",
              "      <td>source</td>\n",
              "      <td>object</td>\n",
              "      <td>0</td>\n",
              "      <td>0.00</td>\n",
              "      <td>156</td>\n",
              "      <td>222A SYS</td>\n",
              "      <td>493</td>\n",
              "      <td>0.79</td>\n",
              "    </tr>\n",
              "    <tr>\n",
              "      <th>3</th>\n",
              "      <td>sample_id</td>\n",
              "      <td>object</td>\n",
              "      <td>0</td>\n",
              "      <td>0.00</td>\n",
              "      <td>62122</td>\n",
              "      <td>W983115</td>\n",
              "      <td>1</td>\n",
              "      <td>0.00</td>\n",
              "    </tr>\n",
              "    <tr>\n",
              "      <th>4</th>\n",
              "      <td>t_coliform</td>\n",
              "      <td>object</td>\n",
              "      <td>52</td>\n",
              "      <td>0.08</td>\n",
              "      <td>3</td>\n",
              "      <td>A</td>\n",
              "      <td>61872</td>\n",
              "      <td>99.60</td>\n",
              "    </tr>\n",
              "    <tr>\n",
              "      <th>5</th>\n",
              "      <td>cl2_total</td>\n",
              "      <td>float64</td>\n",
              "      <td>0</td>\n",
              "      <td>0.00</td>\n",
              "      <td>364</td>\n",
              "      <td>2.4</td>\n",
              "      <td>2239</td>\n",
              "      <td>3.60</td>\n",
              "    </tr>\n",
              "    <tr>\n",
              "      <th>6</th>\n",
              "      <td>e_coli</td>\n",
              "      <td>object</td>\n",
              "      <td>41</td>\n",
              "      <td>0.07</td>\n",
              "      <td>2</td>\n",
              "      <td>A</td>\n",
              "      <td>61979</td>\n",
              "      <td>99.77</td>\n",
              "    </tr>\n",
              "    <tr>\n",
              "      <th>7</th>\n",
              "      <td>temperature</td>\n",
              "      <td>float64</td>\n",
              "      <td>0</td>\n",
              "      <td>0.00</td>\n",
              "      <td>218</td>\n",
              "      <td>17.0</td>\n",
              "      <td>626</td>\n",
              "      <td>1.01</td>\n",
              "    </tr>\n",
              "    <tr>\n",
              "      <th>8</th>\n",
              "      <td>ph</td>\n",
              "      <td>float64</td>\n",
              "      <td>0</td>\n",
              "      <td>0.00</td>\n",
              "      <td>158</td>\n",
              "      <td>8.1</td>\n",
              "      <td>2428</td>\n",
              "      <td>3.91</td>\n",
              "    </tr>\n",
              "    <tr>\n",
              "      <th>9</th>\n",
              "      <td>ph_cat</td>\n",
              "      <td>object</td>\n",
              "      <td>0</td>\n",
              "      <td>0.00</td>\n",
              "      <td>3</td>\n",
              "      <td>Basic&gt;7</td>\n",
              "      <td>62110</td>\n",
              "      <td>99.98</td>\n",
              "    </tr>\n",
              "    <tr>\n",
              "      <th>10</th>\n",
              "      <td>sample_id_duplicate</td>\n",
              "      <td>int64</td>\n",
              "      <td>0</td>\n",
              "      <td>0.00</td>\n",
              "      <td>2</td>\n",
              "      <td>0</td>\n",
              "      <td>59377</td>\n",
              "      <td>95.58</td>\n",
              "    </tr>\n",
              "  </tbody>\n",
              "</table>\n",
              "</div>"
            ],
            "text/plain": [
              "                 column    dtype  null_total  null_pct  unique_values_total  \\\n",
              "0                FR_NUM    int64           0      0.00                62122   \n",
              "1          date_sampled   object           0      0.00                 1971   \n",
              "2                source   object           0      0.00                  156   \n",
              "3             sample_id   object           0      0.00                62122   \n",
              "4            t_coliform   object          52      0.08                    3   \n",
              "5             cl2_total  float64           0      0.00                  364   \n",
              "6                e_coli   object          41      0.07                    2   \n",
              "7           temperature  float64           0      0.00                  218   \n",
              "8                    ph  float64           0      0.00                  158   \n",
              "9                ph_cat   object           0      0.00                    3   \n",
              "10  sample_id_duplicate    int64           0      0.00                    2   \n",
              "\n",
              "   max_unique_value  max_unique_value_total  max_unique_value_pct  \n",
              "0            244324                       1                  0.00  \n",
              "1        2020-01-02                      87                  0.14  \n",
              "2          222A SYS                     493                  0.79  \n",
              "3           W983115                       1                  0.00  \n",
              "4                 A                   61872                 99.60  \n",
              "5               2.4                    2239                  3.60  \n",
              "6                 A                   61979                 99.77  \n",
              "7              17.0                     626                  1.01  \n",
              "8               8.1                    2428                  3.91  \n",
              "9           Basic>7                   62110                 99.98  \n",
              "10                0                   59377                 95.58  "
            ]
          },
          "execution_count": 50,
          "metadata": {},
          "output_type": "execute_result"
        }
      ],
      "source": [
        "dataframe_columns(df)"
      ]
    },
    {
      "cell_type": "code",
      "execution_count": 48,
      "metadata": {},
      "outputs": [
        {
          "data": {
            "text/html": [
              "<div>\n",
              "<style scoped>\n",
              "    .dataframe tbody tr th:only-of-type {\n",
              "        vertical-align: middle;\n",
              "    }\n",
              "\n",
              "    .dataframe tbody tr th {\n",
              "        vertical-align: top;\n",
              "    }\n",
              "\n",
              "    .dataframe thead th {\n",
              "        text-align: right;\n",
              "    }\n",
              "</style>\n",
              "<table border=\"1\" class=\"dataframe\">\n",
              "  <thead>\n",
              "    <tr style=\"text-align: right;\">\n",
              "      <th></th>\n",
              "      <th>FR_NUM</th>\n",
              "      <th>date_sampled</th>\n",
              "      <th>source</th>\n",
              "      <th>sample_id</th>\n",
              "      <th>t_coliform</th>\n",
              "      <th>cl2_total</th>\n",
              "      <th>e_coli</th>\n",
              "      <th>temperature</th>\n",
              "      <th>ph</th>\n",
              "      <th>ph_cat</th>\n",
              "      <th>sample_id_duplicate</th>\n",
              "    </tr>\n",
              "  </thead>\n",
              "  <tbody>\n",
              "    <tr>\n",
              "      <th>81009</th>\n",
              "      <td>397686</td>\n",
              "      <td>2023-04-24</td>\n",
              "      <td>268 SYS</td>\n",
              "      <td>W1567987</td>\n",
              "      <td>A</td>\n",
              "      <td>5.7</td>\n",
              "      <td>A</td>\n",
              "      <td>22.8</td>\n",
              "      <td>5.7</td>\n",
              "      <td>Acidity&lt;7</td>\n",
              "      <td>1</td>\n",
              "    </tr>\n",
              "    <tr>\n",
              "      <th>81010</th>\n",
              "      <td>397686</td>\n",
              "      <td>2023-04-24</td>\n",
              "      <td>268 SYS</td>\n",
              "      <td>W1567987</td>\n",
              "      <td>A</td>\n",
              "      <td>5.7</td>\n",
              "      <td>A</td>\n",
              "      <td>22.8</td>\n",
              "      <td>5.7</td>\n",
              "      <td>Acidity&lt;7</td>\n",
              "      <td>1</td>\n",
              "    </tr>\n",
              "  </tbody>\n",
              "</table>\n",
              "</div>"
            ],
            "text/plain": [
              "       FR_NUM date_sampled   source sample_id t_coliform  cl2_total e_coli  \\\n",
              "81009  397686   2023-04-24  268 SYS  W1567987          A        5.7      A   \n",
              "81010  397686   2023-04-24  268 SYS  W1567987          A        5.7      A   \n",
              "\n",
              "       temperature   ph     ph_cat  sample_id_duplicate  \n",
              "81009         22.8  5.7  Acidity<7                    1  \n",
              "81010         22.8  5.7  Acidity<7                    1  "
            ]
          },
          "execution_count": 48,
          "metadata": {},
          "output_type": "execute_result"
        }
      ],
      "source": [
        "df[(df.FR_NUM == 397686) == True]"
      ]
    },
    {
      "cell_type": "code",
      "execution_count": 47,
      "metadata": {},
      "outputs": [],
      "source": [
        "# re-calibrate ph categories\n",
        "df['ph_cat'] = np.where(df.ph == 7, 'Neutral=7',\n",
        "                 np.where(df.ph < 7, 'Acidity<7',\n",
        "                   np.where(df.ph > 7, 'Basic>7', 'Missing')))"
      ]
    },
    {
      "cell_type": "code",
      "execution_count": 58,
      "metadata": {},
      "outputs": [],
      "source": [
        "df.date_sampled = np.where(df.date_sampled == '2023-03-45', '2023-03-01', df.date_sampled)"
      ]
    },
    {
      "cell_type": "markdown",
      "metadata": {},
      "source": [
        "##### Validate 'date' field(s) that are set to 'object' type"
      ]
    },
    {
      "cell_type": "code",
      "execution_count": 59,
      "metadata": {},
      "outputs": [
        {
          "name": "stdout",
          "output_type": "stream",
          "text": [
            "All dates are valid\n"
          ]
        }
      ],
      "source": [
        "invalid_date_list = []\n",
        "\n",
        "date_cursor = 0\n",
        "\n",
        "for d in(df.date_sampled):\n",
        "    try:\n",
        "        bool(parser.parse(d))\n",
        "        date_cursor += 0\n",
        "    except ValueError:\n",
        "        invalid_date_list.append({'Invalid Date': d})\n",
        "        date_cursor += 1\n",
        "\n",
        "# print results from above validation\n",
        "if date_cursor == 0:\n",
        "    print('All dates are valid')\n",
        "else:\n",
        "    print(pd.DataFrame(invalid_date_list).drop_duplicates())"
      ]
    },
    {
      "cell_type": "markdown",
      "metadata": {},
      "source": [
        "##### Update date(s) field(s) to date time (if all date strings are valid dates)"
      ]
    },
    {
      "cell_type": "code",
      "execution_count": 60,
      "metadata": {},
      "outputs": [],
      "source": [
        "df.date_sampled = pd.to_datetime(df.date_sampled)"
      ]
    },
    {
      "cell_type": "markdown",
      "metadata": {},
      "source": [
        "#### Re-sort the data -- Determine what elements to account for before sorting data by date"
      ]
    },
    {
      "cell_type": "code",
      "execution_count": 61,
      "metadata": {},
      "outputs": [
        {
          "data": {
            "text/plain": [
              "count                   62122\n",
              "unique                   1971\n",
              "top       2020-01-02 00:00:00\n",
              "freq                       87\n",
              "first     2014-06-02 00:00:00\n",
              "last      2023-09-05 00:00:00\n",
              "Name: date_sampled, dtype: object"
            ]
          },
          "execution_count": 61,
          "metadata": {},
          "output_type": "execute_result"
        }
      ],
      "source": [
        "df.date_sampled.describe()"
      ]
    },
    {
      "cell_type": "code",
      "execution_count": 62,
      "metadata": {},
      "outputs": [
        {
          "data": {
            "text/plain": [
              "count     62122.000000\n",
              "mean     324094.585799\n",
              "std       46330.002926\n",
              "min      244324.000000\n",
              "25%      283343.250000\n",
              "50%      324416.500000\n",
              "75%      364137.750000\n",
              "max      404447.000000\n",
              "Name: FR_NUM, dtype: float64"
            ]
          },
          "execution_count": 62,
          "metadata": {},
          "output_type": "execute_result"
        }
      ],
      "source": [
        "df.FR_NUM.describe()"
      ]
    },
    {
      "cell_type": "code",
      "execution_count": 63,
      "metadata": {},
      "outputs": [
        {
          "data": {
            "text/html": [
              "<div>\n",
              "<style scoped>\n",
              "    .dataframe tbody tr th:only-of-type {\n",
              "        vertical-align: middle;\n",
              "    }\n",
              "\n",
              "    .dataframe tbody tr th {\n",
              "        vertical-align: top;\n",
              "    }\n",
              "\n",
              "    .dataframe thead th {\n",
              "        text-align: right;\n",
              "    }\n",
              "</style>\n",
              "<table border=\"1\" class=\"dataframe\">\n",
              "  <thead>\n",
              "    <tr style=\"text-align: right;\">\n",
              "      <th></th>\n",
              "      <th>date_sampled</th>\n",
              "      <th>FR_NUM</th>\n",
              "    </tr>\n",
              "  </thead>\n",
              "  <tbody>\n",
              "    <tr>\n",
              "      <th>66</th>\n",
              "      <td>2014-06-02</td>\n",
              "      <td>244446</td>\n",
              "    </tr>\n",
              "    <tr>\n",
              "      <th>67</th>\n",
              "      <td>2014-06-02</td>\n",
              "      <td>244447</td>\n",
              "    </tr>\n",
              "    <tr>\n",
              "      <th>68</th>\n",
              "      <td>2014-06-02</td>\n",
              "      <td>244448</td>\n",
              "    </tr>\n",
              "    <tr>\n",
              "      <th>69</th>\n",
              "      <td>2014-06-02</td>\n",
              "      <td>244449</td>\n",
              "    </tr>\n",
              "    <tr>\n",
              "      <th>70</th>\n",
              "      <td>2014-06-02</td>\n",
              "      <td>244450</td>\n",
              "    </tr>\n",
              "    <tr>\n",
              "      <th>71</th>\n",
              "      <td>2014-06-02</td>\n",
              "      <td>244451</td>\n",
              "    </tr>\n",
              "    <tr>\n",
              "      <th>72</th>\n",
              "      <td>2014-06-02</td>\n",
              "      <td>244453</td>\n",
              "    </tr>\n",
              "    <tr>\n",
              "      <th>73</th>\n",
              "      <td>2014-06-02</td>\n",
              "      <td>244454</td>\n",
              "    </tr>\n",
              "    <tr>\n",
              "      <th>74</th>\n",
              "      <td>2014-06-02</td>\n",
              "      <td>244456</td>\n",
              "    </tr>\n",
              "    <tr>\n",
              "      <th>75</th>\n",
              "      <td>2014-06-02</td>\n",
              "      <td>244457</td>\n",
              "    </tr>\n",
              "  </tbody>\n",
              "</table>\n",
              "</div>"
            ],
            "text/plain": [
              "   date_sampled  FR_NUM\n",
              "66   2014-06-02  244446\n",
              "67   2014-06-02  244447\n",
              "68   2014-06-02  244448\n",
              "69   2014-06-02  244449\n",
              "70   2014-06-02  244450\n",
              "71   2014-06-02  244451\n",
              "72   2014-06-02  244453\n",
              "73   2014-06-02  244454\n",
              "74   2014-06-02  244456\n",
              "75   2014-06-02  244457"
            ]
          },
          "execution_count": 63,
          "metadata": {},
          "output_type": "execute_result"
        }
      ],
      "source": [
        "# When considering FR_NUM in the sort criteria, the first FR_NUM reflected does not match the min from the describe above\n",
        "df[['date_sampled', 'FR_NUM']].sort_values(by=['date_sampled', 'FR_NUM'], ascending=True).head(10)"
      ]
    },
    {
      "cell_type": "code",
      "execution_count": 64,
      "metadata": {},
      "outputs": [
        {
          "data": {
            "text/html": [
              "<div>\n",
              "<style scoped>\n",
              "    .dataframe tbody tr th:only-of-type {\n",
              "        vertical-align: middle;\n",
              "    }\n",
              "\n",
              "    .dataframe tbody tr th {\n",
              "        vertical-align: top;\n",
              "    }\n",
              "\n",
              "    .dataframe thead th {\n",
              "        text-align: right;\n",
              "    }\n",
              "</style>\n",
              "<table border=\"1\" class=\"dataframe\">\n",
              "  <thead>\n",
              "    <tr style=\"text-align: right;\">\n",
              "      <th></th>\n",
              "      <th>FR_NUM</th>\n",
              "      <th>date_sampled</th>\n",
              "      <th>source</th>\n",
              "      <th>sample_id</th>\n",
              "      <th>t_coliform</th>\n",
              "      <th>cl2_total</th>\n",
              "      <th>e_coli</th>\n",
              "      <th>temperature</th>\n",
              "      <th>ph</th>\n",
              "      <th>ph_cat</th>\n",
              "      <th>sample_id_duplicate</th>\n",
              "    </tr>\n",
              "  </thead>\n",
              "  <tbody>\n",
              "    <tr>\n",
              "      <th>0</th>\n",
              "      <td>244324</td>\n",
              "      <td>2014-06-05</td>\n",
              "      <td>244 SYS</td>\n",
              "      <td>W983115</td>\n",
              "      <td>A</td>\n",
              "      <td>1.91</td>\n",
              "      <td>A</td>\n",
              "      <td>23.4</td>\n",
              "      <td>8.02</td>\n",
              "      <td>Basic&gt;7</td>\n",
              "      <td>0</td>\n",
              "    </tr>\n",
              "  </tbody>\n",
              "</table>\n",
              "</div>"
            ],
            "text/plain": [
              "   FR_NUM date_sampled   source sample_id t_coliform  cl2_total e_coli  \\\n",
              "0  244324   2014-06-05  244 SYS   W983115          A       1.91      A   \n",
              "\n",
              "   temperature    ph   ph_cat  sample_id_duplicate  \n",
              "0         23.4  8.02  Basic>7                    0  "
            ]
          },
          "execution_count": 64,
          "metadata": {},
          "output_type": "execute_result"
        }
      ],
      "source": [
        "# When checking the FR_NUM.min() value, it aligns with a date not equal to the first date in the date series\n",
        "df[(df.FR_NUM == df.FR_NUM.min()) == True]"
      ]
    },
    {
      "cell_type": "code",
      "execution_count": 65,
      "metadata": {},
      "outputs": [
        {
          "name": "stdout",
          "output_type": "stream",
          "text": [
            "min sample_id:    W983115\n"
          ]
        },
        {
          "data": {
            "text/html": [
              "<div>\n",
              "<style scoped>\n",
              "    .dataframe tbody tr th:only-of-type {\n",
              "        vertical-align: middle;\n",
              "    }\n",
              "\n",
              "    .dataframe tbody tr th {\n",
              "        vertical-align: top;\n",
              "    }\n",
              "\n",
              "    .dataframe thead th {\n",
              "        text-align: right;\n",
              "    }\n",
              "</style>\n",
              "<table border=\"1\" class=\"dataframe\">\n",
              "  <thead>\n",
              "    <tr style=\"text-align: right;\">\n",
              "      <th></th>\n",
              "      <th>date_sampled</th>\n",
              "      <th>sample_id</th>\n",
              "    </tr>\n",
              "  </thead>\n",
              "  <tbody>\n",
              "    <tr>\n",
              "      <th>66</th>\n",
              "      <td>2014-06-02</td>\n",
              "      <td>W983396</td>\n",
              "    </tr>\n",
              "    <tr>\n",
              "      <th>67</th>\n",
              "      <td>2014-06-02</td>\n",
              "      <td>W983397</td>\n",
              "    </tr>\n",
              "    <tr>\n",
              "      <th>68</th>\n",
              "      <td>2014-06-02</td>\n",
              "      <td>W983398</td>\n",
              "    </tr>\n",
              "    <tr>\n",
              "      <th>69</th>\n",
              "      <td>2014-06-02</td>\n",
              "      <td>W983399</td>\n",
              "    </tr>\n",
              "    <tr>\n",
              "      <th>70</th>\n",
              "      <td>2014-06-02</td>\n",
              "      <td>W983400</td>\n",
              "    </tr>\n",
              "    <tr>\n",
              "      <th>71</th>\n",
              "      <td>2014-06-02</td>\n",
              "      <td>W983401</td>\n",
              "    </tr>\n",
              "    <tr>\n",
              "      <th>72</th>\n",
              "      <td>2014-06-02</td>\n",
              "      <td>W983404</td>\n",
              "    </tr>\n",
              "    <tr>\n",
              "      <th>73</th>\n",
              "      <td>2014-06-02</td>\n",
              "      <td>W983405</td>\n",
              "    </tr>\n",
              "    <tr>\n",
              "      <th>74</th>\n",
              "      <td>2014-06-02</td>\n",
              "      <td>W983407</td>\n",
              "    </tr>\n",
              "    <tr>\n",
              "      <th>75</th>\n",
              "      <td>2014-06-02</td>\n",
              "      <td>W983408</td>\n",
              "    </tr>\n",
              "  </tbody>\n",
              "</table>\n",
              "</div>"
            ],
            "text/plain": [
              "   date_sampled sample_id\n",
              "66   2014-06-02   W983396\n",
              "67   2014-06-02   W983397\n",
              "68   2014-06-02   W983398\n",
              "69   2014-06-02   W983399\n",
              "70   2014-06-02   W983400\n",
              "71   2014-06-02   W983401\n",
              "72   2014-06-02   W983404\n",
              "73   2014-06-02   W983405\n",
              "74   2014-06-02   W983407\n",
              "75   2014-06-02   W983408"
            ]
          },
          "execution_count": 65,
          "metadata": {},
          "output_type": "execute_result"
        }
      ],
      "source": [
        "# When considering sample_id in the sort criteria, the first date_sampled reflected does not match the min from the sample_id\n",
        "min_sample_id = 'W' + str(df.sample_id.str.replace('W','').astype(int).min())\n",
        "\n",
        "print('min sample_id:   ',  min_sample_id)\n",
        "\n",
        "df[['date_sampled', 'sample_id']].sort_values(by=['date_sampled', 'sample_id'], ascending=True).head(10)"
      ]
    },
    {
      "cell_type": "code",
      "execution_count": 66,
      "metadata": {},
      "outputs": [
        {
          "data": {
            "text/html": [
              "<div>\n",
              "<style scoped>\n",
              "    .dataframe tbody tr th:only-of-type {\n",
              "        vertical-align: middle;\n",
              "    }\n",
              "\n",
              "    .dataframe tbody tr th {\n",
              "        vertical-align: top;\n",
              "    }\n",
              "\n",
              "    .dataframe thead th {\n",
              "        text-align: right;\n",
              "    }\n",
              "</style>\n",
              "<table border=\"1\" class=\"dataframe\">\n",
              "  <thead>\n",
              "    <tr style=\"text-align: right;\">\n",
              "      <th></th>\n",
              "      <th>FR_NUM</th>\n",
              "      <th>date_sampled</th>\n",
              "      <th>source</th>\n",
              "      <th>sample_id</th>\n",
              "      <th>t_coliform</th>\n",
              "      <th>cl2_total</th>\n",
              "      <th>e_coli</th>\n",
              "      <th>temperature</th>\n",
              "      <th>ph</th>\n",
              "      <th>ph_cat</th>\n",
              "      <th>sample_id_duplicate</th>\n",
              "    </tr>\n",
              "  </thead>\n",
              "  <tbody>\n",
              "    <tr>\n",
              "      <th>0</th>\n",
              "      <td>244324</td>\n",
              "      <td>2014-06-05</td>\n",
              "      <td>244 SYS</td>\n",
              "      <td>W983115</td>\n",
              "      <td>A</td>\n",
              "      <td>1.91</td>\n",
              "      <td>A</td>\n",
              "      <td>23.4</td>\n",
              "      <td>8.02</td>\n",
              "      <td>Basic&gt;7</td>\n",
              "      <td>0</td>\n",
              "    </tr>\n",
              "  </tbody>\n",
              "</table>\n",
              "</div>"
            ],
            "text/plain": [
              "   FR_NUM date_sampled   source sample_id t_coliform  cl2_total e_coli  \\\n",
              "0  244324   2014-06-05  244 SYS   W983115          A       1.91      A   \n",
              "\n",
              "   temperature    ph   ph_cat  sample_id_duplicate  \n",
              "0         23.4  8.02  Basic>7                    0  "
            ]
          },
          "execution_count": 66,
          "metadata": {},
          "output_type": "execute_result"
        }
      ],
      "source": [
        "# the sample_id min(), also does not align with the first date in the series\n",
        "df[(df.sample_id == min_sample_id) == True]"
      ]
    },
    {
      "cell_type": "markdown",
      "metadata": {},
      "source": [
        "#### Re-sort data only by 'date_sampled' and reset index"
      ]
    },
    {
      "cell_type": "code",
      "execution_count": 67,
      "metadata": {},
      "outputs": [],
      "source": [
        "df = df.sort_values(by=['date_sampled'], ascending=True).reset_index(drop=True)"
      ]
    },
    {
      "cell_type": "code",
      "execution_count": 68,
      "metadata": {},
      "outputs": [
        {
          "data": {
            "text/html": [
              "<div>\n",
              "<style scoped>\n",
              "    .dataframe tbody tr th:only-of-type {\n",
              "        vertical-align: middle;\n",
              "    }\n",
              "\n",
              "    .dataframe tbody tr th {\n",
              "        vertical-align: top;\n",
              "    }\n",
              "\n",
              "    .dataframe thead th {\n",
              "        text-align: right;\n",
              "    }\n",
              "</style>\n",
              "<table border=\"1\" class=\"dataframe\">\n",
              "  <thead>\n",
              "    <tr style=\"text-align: right;\">\n",
              "      <th></th>\n",
              "      <th>FR_NUM</th>\n",
              "      <th>date_sampled</th>\n",
              "      <th>source</th>\n",
              "      <th>sample_id</th>\n",
              "      <th>t_coliform</th>\n",
              "      <th>cl2_total</th>\n",
              "      <th>e_coli</th>\n",
              "      <th>temperature</th>\n",
              "      <th>ph</th>\n",
              "      <th>ph_cat</th>\n",
              "      <th>sample_id_duplicate</th>\n",
              "    </tr>\n",
              "  </thead>\n",
              "  <tbody>\n",
              "    <tr>\n",
              "      <th>0</th>\n",
              "      <td>244479</td>\n",
              "      <td>2014-06-02</td>\n",
              "      <td>235 SYS</td>\n",
              "      <td>W983434</td>\n",
              "      <td>A</td>\n",
              "      <td>1.90</td>\n",
              "      <td>A</td>\n",
              "      <td>21.6</td>\n",
              "      <td>8.18</td>\n",
              "      <td>Basic&gt;7</td>\n",
              "      <td>0</td>\n",
              "    </tr>\n",
              "    <tr>\n",
              "      <th>1</th>\n",
              "      <td>244486</td>\n",
              "      <td>2014-06-02</td>\n",
              "      <td>326 SYS</td>\n",
              "      <td>W983445</td>\n",
              "      <td>A</td>\n",
              "      <td>1.99</td>\n",
              "      <td>A</td>\n",
              "      <td>22.7</td>\n",
              "      <td>8.22</td>\n",
              "      <td>Basic&gt;7</td>\n",
              "      <td>0</td>\n",
              "    </tr>\n",
              "    <tr>\n",
              "      <th>2</th>\n",
              "      <td>244485</td>\n",
              "      <td>2014-06-02</td>\n",
              "      <td>327 SYS</td>\n",
              "      <td>W983444</td>\n",
              "      <td>A</td>\n",
              "      <td>1.81</td>\n",
              "      <td>A</td>\n",
              "      <td>23.4</td>\n",
              "      <td>8.23</td>\n",
              "      <td>Basic&gt;7</td>\n",
              "      <td>0</td>\n",
              "    </tr>\n",
              "    <tr>\n",
              "      <th>3</th>\n",
              "      <td>244482</td>\n",
              "      <td>2014-06-02</td>\n",
              "      <td>234A SYS</td>\n",
              "      <td>W983439</td>\n",
              "      <td>A</td>\n",
              "      <td>1.83</td>\n",
              "      <td>A</td>\n",
              "      <td>22.7</td>\n",
              "      <td>8.17</td>\n",
              "      <td>Basic&gt;7</td>\n",
              "      <td>0</td>\n",
              "    </tr>\n",
              "    <tr>\n",
              "      <th>4</th>\n",
              "      <td>244477</td>\n",
              "      <td>2014-06-02</td>\n",
              "      <td>313 SYS</td>\n",
              "      <td>W983430</td>\n",
              "      <td>A</td>\n",
              "      <td>1.81</td>\n",
              "      <td>A</td>\n",
              "      <td>22.5</td>\n",
              "      <td>8.15</td>\n",
              "      <td>Basic&gt;7</td>\n",
              "      <td>0</td>\n",
              "    </tr>\n",
              "    <tr>\n",
              "      <th>5</th>\n",
              "      <td>244446</td>\n",
              "      <td>2014-06-02</td>\n",
              "      <td>262 SYS</td>\n",
              "      <td>W983396</td>\n",
              "      <td>A</td>\n",
              "      <td>2.80</td>\n",
              "      <td>A</td>\n",
              "      <td>22.8</td>\n",
              "      <td>8.03</td>\n",
              "      <td>Basic&gt;7</td>\n",
              "      <td>0</td>\n",
              "    </tr>\n",
              "    <tr>\n",
              "      <th>6</th>\n",
              "      <td>244447</td>\n",
              "      <td>2014-06-02</td>\n",
              "      <td>52 SYS</td>\n",
              "      <td>W983397</td>\n",
              "      <td>A</td>\n",
              "      <td>2.22</td>\n",
              "      <td>A</td>\n",
              "      <td>23.6</td>\n",
              "      <td>8.00</td>\n",
              "      <td>Basic&gt;7</td>\n",
              "      <td>0</td>\n",
              "    </tr>\n",
              "  </tbody>\n",
              "</table>\n",
              "</div>"
            ],
            "text/plain": [
              "   FR_NUM date_sampled    source sample_id t_coliform  cl2_total e_coli  \\\n",
              "0  244479   2014-06-02   235 SYS   W983434          A       1.90      A   \n",
              "1  244486   2014-06-02   326 SYS   W983445          A       1.99      A   \n",
              "2  244485   2014-06-02   327 SYS   W983444          A       1.81      A   \n",
              "3  244482   2014-06-02  234A SYS   W983439          A       1.83      A   \n",
              "4  244477   2014-06-02   313 SYS   W983430          A       1.81      A   \n",
              "5  244446   2014-06-02   262 SYS   W983396          A       2.80      A   \n",
              "6  244447   2014-06-02    52 SYS   W983397          A       2.22      A   \n",
              "\n",
              "   temperature    ph   ph_cat  sample_id_duplicate  \n",
              "0         21.6  8.18  Basic>7                    0  \n",
              "1         22.7  8.22  Basic>7                    0  \n",
              "2         23.4  8.23  Basic>7                    0  \n",
              "3         22.7  8.17  Basic>7                    0  \n",
              "4         22.5  8.15  Basic>7                    0  \n",
              "5         22.8  8.03  Basic>7                    0  \n",
              "6         23.6  8.00  Basic>7                    0  "
            ]
          },
          "execution_count": 68,
          "metadata": {},
          "output_type": "execute_result"
        }
      ],
      "source": [
        "df.head(7)"
      ]
    },
    {
      "cell_type": "markdown",
      "metadata": {},
      "source": [
        "#### Check dataframe #3"
      ]
    },
    {
      "cell_type": "code",
      "execution_count": 69,
      "metadata": {},
      "outputs": [
        {
          "name": "stdout",
          "output_type": "stream",
          "text": [
            "Shape:  (62122, 11)\n"
          ]
        },
        {
          "data": {
            "text/html": [
              "<div>\n",
              "<style scoped>\n",
              "    .dataframe tbody tr th:only-of-type {\n",
              "        vertical-align: middle;\n",
              "    }\n",
              "\n",
              "    .dataframe tbody tr th {\n",
              "        vertical-align: top;\n",
              "    }\n",
              "\n",
              "    .dataframe thead th {\n",
              "        text-align: right;\n",
              "    }\n",
              "</style>\n",
              "<table border=\"1\" class=\"dataframe\">\n",
              "  <thead>\n",
              "    <tr style=\"text-align: right;\">\n",
              "      <th></th>\n",
              "      <th>column</th>\n",
              "      <th>dtype</th>\n",
              "      <th>null_total</th>\n",
              "      <th>null_pct</th>\n",
              "      <th>unique_values_total</th>\n",
              "      <th>max_unique_value</th>\n",
              "      <th>max_unique_value_total</th>\n",
              "      <th>max_unique_value_pct</th>\n",
              "    </tr>\n",
              "  </thead>\n",
              "  <tbody>\n",
              "    <tr>\n",
              "      <th>0</th>\n",
              "      <td>FR_NUM</td>\n",
              "      <td>int64</td>\n",
              "      <td>0</td>\n",
              "      <td>0.00</td>\n",
              "      <td>62122</td>\n",
              "      <td>244479</td>\n",
              "      <td>1</td>\n",
              "      <td>0.00</td>\n",
              "    </tr>\n",
              "    <tr>\n",
              "      <th>1</th>\n",
              "      <td>date_sampled</td>\n",
              "      <td>datetime64[ns]</td>\n",
              "      <td>0</td>\n",
              "      <td>0.00</td>\n",
              "      <td>1971</td>\n",
              "      <td>2020-01-02</td>\n",
              "      <td>87</td>\n",
              "      <td>0.14</td>\n",
              "    </tr>\n",
              "    <tr>\n",
              "      <th>2</th>\n",
              "      <td>source</td>\n",
              "      <td>object</td>\n",
              "      <td>0</td>\n",
              "      <td>0.00</td>\n",
              "      <td>156</td>\n",
              "      <td>222A SYS</td>\n",
              "      <td>493</td>\n",
              "      <td>0.79</td>\n",
              "    </tr>\n",
              "    <tr>\n",
              "      <th>3</th>\n",
              "      <td>sample_id</td>\n",
              "      <td>object</td>\n",
              "      <td>0</td>\n",
              "      <td>0.00</td>\n",
              "      <td>62122</td>\n",
              "      <td>W983434</td>\n",
              "      <td>1</td>\n",
              "      <td>0.00</td>\n",
              "    </tr>\n",
              "    <tr>\n",
              "      <th>4</th>\n",
              "      <td>t_coliform</td>\n",
              "      <td>object</td>\n",
              "      <td>52</td>\n",
              "      <td>0.08</td>\n",
              "      <td>3</td>\n",
              "      <td>A</td>\n",
              "      <td>61872</td>\n",
              "      <td>99.60</td>\n",
              "    </tr>\n",
              "    <tr>\n",
              "      <th>5</th>\n",
              "      <td>cl2_total</td>\n",
              "      <td>float64</td>\n",
              "      <td>0</td>\n",
              "      <td>0.00</td>\n",
              "      <td>364</td>\n",
              "      <td>2.4</td>\n",
              "      <td>2239</td>\n",
              "      <td>3.60</td>\n",
              "    </tr>\n",
              "    <tr>\n",
              "      <th>6</th>\n",
              "      <td>e_coli</td>\n",
              "      <td>object</td>\n",
              "      <td>41</td>\n",
              "      <td>0.07</td>\n",
              "      <td>2</td>\n",
              "      <td>A</td>\n",
              "      <td>61979</td>\n",
              "      <td>99.77</td>\n",
              "    </tr>\n",
              "    <tr>\n",
              "      <th>7</th>\n",
              "      <td>temperature</td>\n",
              "      <td>float64</td>\n",
              "      <td>0</td>\n",
              "      <td>0.00</td>\n",
              "      <td>218</td>\n",
              "      <td>17.0</td>\n",
              "      <td>626</td>\n",
              "      <td>1.01</td>\n",
              "    </tr>\n",
              "    <tr>\n",
              "      <th>8</th>\n",
              "      <td>ph</td>\n",
              "      <td>float64</td>\n",
              "      <td>0</td>\n",
              "      <td>0.00</td>\n",
              "      <td>158</td>\n",
              "      <td>8.1</td>\n",
              "      <td>2428</td>\n",
              "      <td>3.91</td>\n",
              "    </tr>\n",
              "    <tr>\n",
              "      <th>9</th>\n",
              "      <td>ph_cat</td>\n",
              "      <td>object</td>\n",
              "      <td>0</td>\n",
              "      <td>0.00</td>\n",
              "      <td>3</td>\n",
              "      <td>Basic&gt;7</td>\n",
              "      <td>62110</td>\n",
              "      <td>99.98</td>\n",
              "    </tr>\n",
              "    <tr>\n",
              "      <th>10</th>\n",
              "      <td>sample_id_duplicate</td>\n",
              "      <td>int64</td>\n",
              "      <td>0</td>\n",
              "      <td>0.00</td>\n",
              "      <td>2</td>\n",
              "      <td>0</td>\n",
              "      <td>59377</td>\n",
              "      <td>95.58</td>\n",
              "    </tr>\n",
              "  </tbody>\n",
              "</table>\n",
              "</div>"
            ],
            "text/plain": [
              "                 column           dtype  null_total  null_pct  \\\n",
              "0                FR_NUM           int64           0      0.00   \n",
              "1          date_sampled  datetime64[ns]           0      0.00   \n",
              "2                source          object           0      0.00   \n",
              "3             sample_id          object           0      0.00   \n",
              "4            t_coliform          object          52      0.08   \n",
              "5             cl2_total         float64           0      0.00   \n",
              "6                e_coli          object          41      0.07   \n",
              "7           temperature         float64           0      0.00   \n",
              "8                    ph         float64           0      0.00   \n",
              "9                ph_cat          object           0      0.00   \n",
              "10  sample_id_duplicate           int64           0      0.00   \n",
              "\n",
              "    unique_values_total max_unique_value  max_unique_value_total  \\\n",
              "0                 62122           244479                       1   \n",
              "1                  1971       2020-01-02                      87   \n",
              "2                   156         222A SYS                     493   \n",
              "3                 62122          W983434                       1   \n",
              "4                     3                A                   61872   \n",
              "5                   364              2.4                    2239   \n",
              "6                     2                A                   61979   \n",
              "7                   218             17.0                     626   \n",
              "8                   158              8.1                    2428   \n",
              "9                     3          Basic>7                   62110   \n",
              "10                    2                0                   59377   \n",
              "\n",
              "    max_unique_value_pct  \n",
              "0                   0.00  \n",
              "1                   0.14  \n",
              "2                   0.79  \n",
              "3                   0.00  \n",
              "4                  99.60  \n",
              "5                   3.60  \n",
              "6                  99.77  \n",
              "7                   1.01  \n",
              "8                   3.91  \n",
              "9                  99.98  \n",
              "10                 95.58  "
            ]
          },
          "execution_count": 69,
          "metadata": {},
          "output_type": "execute_result"
        }
      ],
      "source": [
        "dataframe_columns(df)"
      ]
    },
    {
      "cell_type": "markdown",
      "metadata": {},
      "source": [
        "#### Evaluate observations missing data (t_coliform)"
      ]
    },
    {
      "cell_type": "code",
      "execution_count": null,
      "metadata": {},
      "outputs": [],
      "source": [
        "# from data dictionary\n",
        "dict_df[(dict_df.Field == 'coliform') == True]"
      ]
    },
    {
      "cell_type": "code",
      "execution_count": null,
      "metadata": {},
      "outputs": [],
      "source": [
        "# per the data dictionary, only values 'A' and 'P' are valid\n",
        "df.t_coliform.fillna('missing').value_counts()"
      ]
    },
    {
      "cell_type": "code",
      "execution_count": null,
      "metadata": {},
      "outputs": [],
      "source": [
        "# convert missing values to the string 'missing'\n",
        "df.t_coliform.fillna('missing', inplace=True)"
      ]
    },
    {
      "cell_type": "code",
      "execution_count": null,
      "metadata": {},
      "outputs": [],
      "source": [
        "# confirm that invalid values appear\n",
        "df.query(\"t_coliform != 'A' and t_coliform != 'P'\").t_coliform.value_counts()"
      ]
    },
    {
      "cell_type": "markdown",
      "metadata": {},
      "source": [
        "#### Evaluate observations missing data (e_coli)"
      ]
    },
    {
      "cell_type": "code",
      "execution_count": null,
      "metadata": {},
      "outputs": [],
      "source": [
        "# from data dictionary\n",
        "dict_df[(dict_df.Field == 'E.coli') == True]"
      ]
    },
    {
      "cell_type": "code",
      "execution_count": null,
      "metadata": {},
      "outputs": [],
      "source": [
        "# per the data dictionary, only values 'A' and 'P' are valid\n",
        "df.e_coli.fillna('missing').value_counts()"
      ]
    },
    {
      "cell_type": "code",
      "execution_count": null,
      "metadata": {},
      "outputs": [],
      "source": [
        "# convert missing values to the string 'missing'\n",
        "df.e_coli.fillna('missing', inplace=True)"
      ]
    },
    {
      "cell_type": "code",
      "execution_count": null,
      "metadata": {},
      "outputs": [],
      "source": [
        "df.e_coli.value_counts()"
      ]
    },
    {
      "cell_type": "markdown",
      "metadata": {},
      "source": [
        "##### Evaluate both observations with missing values"
      ]
    },
    {
      "cell_type": "code",
      "execution_count": null,
      "metadata": {},
      "outputs": [],
      "source": [
        "# based on the analysis below, both observations have matching invalid values\n",
        "# dropping invalid values from one of these fields will account for the other\n",
        "df[['t_coliform', 'e_coli']].value_counts().to_frame(name='Combination Totals')"
      ]
    },
    {
      "cell_type": "code",
      "execution_count": null,
      "metadata": {},
      "outputs": [],
      "source": [
        "# drop respective invalid rows by their index\n",
        "for ix in (df.query(\"t_coliform != 'A' and t_coliform != 'P'\").index):\n",
        "    df.drop(index= ix, inplace=True)"
      ]
    },
    {
      "cell_type": "markdown",
      "metadata": {},
      "source": [
        "#### Dataframe check #4"
      ]
    },
    {
      "cell_type": "code",
      "execution_count": null,
      "metadata": {},
      "outputs": [],
      "source": [
        "dataframe_columns(df)"
      ]
    },
    {
      "cell_type": "code",
      "execution_count": null,
      "metadata": {},
      "outputs": [],
      "source": [
        "print('''Public Utilities currently has 160 sample sites for the City of San Diego drinking water system and is required to test 85 sites per week. \n",
        "Temperature, chlorine and pH are measured on site, and then a sample is brought to a lab to test for the presence of the indicator bacteria coliform and E.coli. \n",
        "Coliform and the strains of E.coli tested serve as indicators of the presence of potentially harmful bacteria.''')\n",
        "\n",
        "print('\\n', 'Total number of potential sample sites in data set:  ', df.source.value_counts().to_frame(name='Totals').shape[0])\n",
        "\n",
        "print('\\n', 'Question: Why are there 4 missing sample sites in the data set?')"
      ]
    },
    {
      "cell_type": "markdown",
      "metadata": {},
      "source": [
        "#### Year and Week feature to determine if 85 sites are being tested per week"
      ]
    },
    {
      "cell_type": "code",
      "execution_count": null,
      "metadata": {},
      "outputs": [],
      "source": [
        "week_number = []\n",
        "\n",
        "# convert datetime to object to obtain its isocalendar value (week number)\n",
        "for d in (df.date_sampled.astype(str)):\n",
        "    week_number.append({'week_number': datetime.datetime.strptime(d, '%Y-%m-%d').isocalendar()[1]})"
      ]
    },
    {
      "cell_type": "code",
      "execution_count": null,
      "metadata": {},
      "outputs": [],
      "source": [
        "# merge week_number values into main data frame, merging on index\n",
        "df = df.merge(pd.DataFrame(week_number), on=df.index)"
      ]
    },
    {
      "cell_type": "code",
      "execution_count": null,
      "metadata": {},
      "outputs": [],
      "source": [
        "# drop new column created by merge\n",
        "df.drop(columns={'key_0'}, inplace=True)"
      ]
    },
    {
      "cell_type": "code",
      "execution_count": null,
      "metadata": {},
      "outputs": [],
      "source": [
        "# create new feature for year and week number\n",
        "df['year_week'] = df.date_sampled.astype(str).str[:4] + '-' + df.week_number.astype(str)"
      ]
    },
    {
      "cell_type": "code",
      "execution_count": null,
      "metadata": {},
      "outputs": [],
      "source": [
        "test_site_counter = 0\n",
        "\n",
        "for k, v in (dict(df.year_week.value_counts()).items()):\n",
        "    if v <= 85:\n",
        "        test_site_counter += 1\n",
        "        print('year_week:  ' + str(k) + '     test count:  ' + str(v))\n",
        "\n",
        "if test_site_counter == 0:\n",
        "    print('At least 85 sites are being tested per week')"
      ]
    },
    {
      "cell_type": "code",
      "execution_count": null,
      "metadata": {},
      "outputs": [],
      "source": [
        "# add year_week value count to data frame\n",
        "year_week_df = df.year_week.value_counts().to_frame(name='year_week_total').reset_index()\n",
        "\n",
        "# rename columns\n",
        "year_week_df.rename(columns={'index': 'year_week'}, inplace=True)\n",
        "\n",
        "# sample of year_week_df\n",
        "year_week_df.sample(3)"
      ]
    },
    {
      "cell_type": "code",
      "execution_count": null,
      "metadata": {},
      "outputs": [],
      "source": [
        "# merge year_week_total into main dataframe\n",
        "df = df.merge(year_week_df, left_on='year_week', right_on='year_week', how='inner')"
      ]
    },
    {
      "cell_type": "markdown",
      "metadata": {},
      "source": [
        "##### Dataframe check #5"
      ]
    },
    {
      "cell_type": "code",
      "execution_count": null,
      "metadata": {},
      "outputs": [],
      "source": [
        "dataframe_columns(df)"
      ]
    },
    {
      "cell_type": "markdown",
      "metadata": {},
      "source": [
        "##### describe values for year_week values"
      ]
    },
    {
      "cell_type": "code",
      "execution_count": null,
      "metadata": {},
      "outputs": [],
      "source": [
        "df.year_week.value_counts().describe()"
      ]
    },
    {
      "cell_type": "code",
      "execution_count": null,
      "metadata": {},
      "outputs": [],
      "source": [
        "df.year_week.value_counts().plot(kind='hist', bins=100)"
      ]
    },
    {
      "cell_type": "code",
      "execution_count": null,
      "metadata": {},
      "outputs": [],
      "source": [
        "# add source_totals to data frame\n",
        "source_totals_df = df.source.value_counts().to_frame(name='source_totals').reset_index()\n",
        "\n",
        "# rename column\n",
        "source_totals_df.rename(columns={'index': 'source'}, inplace=True)\n",
        "\n",
        "# sample\n",
        "source_totals_df.sample(3)"
      ]
    },
    {
      "cell_type": "code",
      "execution_count": null,
      "metadata": {},
      "outputs": [],
      "source": [
        "# merge source_totals into main dataframe\n",
        "df = df.merge(source_totals_df, left_on='source', right_on='source', how='inner')"
      ]
    },
    {
      "cell_type": "markdown",
      "metadata": {},
      "source": [
        "##### Dataframe check #6"
      ]
    },
    {
      "cell_type": "code",
      "execution_count": null,
      "metadata": {},
      "outputs": [],
      "source": [
        "dataframe_columns(df)"
      ]
    },
    {
      "cell_type": "code",
      "execution_count": null,
      "metadata": {},
      "outputs": [],
      "source": [
        "# some sources have been tested much more times than others\n",
        "df.source_totals.describe()\n",
        "\n",
        "# question: Why is there a disproportionality in source_totals?"
      ]
    },
    {
      "cell_type": "code",
      "execution_count": null,
      "metadata": {},
      "outputs": [],
      "source": [
        "df.year_week.describe()"
      ]
    },
    {
      "cell_type": "code",
      "execution_count": null,
      "metadata": {},
      "outputs": [],
      "source": [
        "df[(df.date_sampled == '2023-08-28') == True]"
      ]
    },
    {
      "cell_type": "markdown",
      "metadata": {},
      "source": [
        "#### ph describe analysis"
      ]
    },
    {
      "cell_type": "code",
      "execution_count": null,
      "metadata": {},
      "outputs": [],
      "source": [
        "df.ph.describe()"
      ]
    },
    {
      "cell_type": "code",
      "execution_count": null,
      "metadata": {},
      "outputs": [],
      "source": [
        "print('Only one record is returned having ph value greater or equal to 14')\n",
        "\n",
        "df[(df.ph >= 14) == True]"
      ]
    },
    {
      "cell_type": "code",
      "execution_count": null,
      "metadata": {},
      "outputs": [],
      "source": [
        "print('When querying the dataframe for ''like'' features for the result above, the same singleton result is returned')\n",
        "df.query(\"t_coliform == 'A' and cl2_total == 0.8 and e_coli == 'A' and temperature == 8.0\")"
      ]
    },
    {
      "cell_type": "code",
      "execution_count": null,
      "metadata": {},
      "outputs": [],
      "source": [
        "print('We will remove the row from the data frame')\n",
        "\n",
        "for ix in (df[(df.ph >= 14) == True].index):\n",
        "    df.drop(index=ix, inplace=True)"
      ]
    },
    {
      "cell_type": "code",
      "execution_count": null,
      "metadata": {},
      "outputs": [],
      "source": [
        "print('Check the describe results for ph to ensure the invalid ph value is no longer present')\n",
        "df.ph.describe()"
      ]
    },
    {
      "cell_type": "markdown",
      "metadata": {},
      "source": [
        "#### Dataframe check #7"
      ]
    },
    {
      "cell_type": "code",
      "execution_count": null,
      "metadata": {},
      "outputs": [],
      "source": [
        "dataframe_columns(df)"
      ]
    },
    {
      "cell_type": "markdown",
      "metadata": {},
      "source": [
        "#### ......this is where I left off"
      ]
    },
    {
      "cell_type": "code",
      "execution_count": null,
      "metadata": {},
      "outputs": [],
      "source": [
        "#pd.DataFrame(df.dtypes).value_counts().to_frame(name='Counts').reset_index()\n",
        "df.dtypes.value_counts()"
      ]
    },
    {
      "cell_type": "code",
      "execution_count": null,
      "metadata": {},
      "outputs": [],
      "source": [
        "import statsmodels.api as sm\n",
        "import statsmodels.stats.outliers_influence as inf"
      ]
    },
    {
      "cell_type": "code",
      "execution_count": null,
      "metadata": {},
      "outputs": [],
      "source": [
        "df.select_dtypes('float64').columns.to_frame(name='Columns').reset_index(drop=True)"
      ]
    },
    {
      "cell_type": "code",
      "execution_count": null,
      "metadata": {},
      "outputs": [],
      "source": [
        "inf_x = df.select_dtypes('float64')"
      ]
    },
    {
      "cell_type": "code",
      "execution_count": null,
      "metadata": {},
      "outputs": [],
      "source": [
        "pd.plotting.scatter_matrix(inf_x)"
      ]
    },
    {
      "cell_type": "code",
      "execution_count": null,
      "metadata": {},
      "outputs": [],
      "source": [
        "inf_x = inf_x.dropna()"
      ]
    },
    {
      "cell_type": "code",
      "execution_count": null,
      "metadata": {},
      "outputs": [],
      "source": [
        "inf_x = sm.add_constant(inf_x)"
      ]
    },
    {
      "cell_type": "code",
      "execution_count": null,
      "metadata": {},
      "outputs": [],
      "source": [
        "pd.DataFrame(inf_x.values)[1].describe()"
      ]
    },
    {
      "cell_type": "code",
      "execution_count": null,
      "metadata": {},
      "outputs": [],
      "source": [
        "[inf.variance_inflation_factor(inf_x.values, i)\n",
        " for i in range(inf_x.shape[1])]"
      ]
    },
    {
      "cell_type": "markdown",
      "metadata": {},
      "source": [
        "### Kmeans"
      ]
    },
    {
      "cell_type": "code",
      "execution_count": null,
      "metadata": {},
      "outputs": [],
      "source": [
        "from sklearn.cluster import KMeans"
      ]
    },
    {
      "cell_type": "code",
      "execution_count": null,
      "metadata": {},
      "outputs": [],
      "source": [
        "kmeans_X = np.array(inf_x.iloc[:,[1,2,3]])"
      ]
    },
    {
      "cell_type": "code",
      "execution_count": null,
      "metadata": {},
      "outputs": [],
      "source": [
        "plt.scatter(kmeans_X[:,0], kmeans_X[:,1], kmeans_X[:,2], label=\"True Position\")\n",
        "plt.show();"
      ]
    },
    {
      "cell_type": "code",
      "execution_count": null,
      "metadata": {},
      "outputs": [],
      "source": [
        "kmeans = KMeans(n_clusters=2)"
      ]
    },
    {
      "cell_type": "code",
      "execution_count": null,
      "metadata": {},
      "outputs": [],
      "source": [
        "kmeans.fit(kmeans_X)"
      ]
    },
    {
      "cell_type": "code",
      "execution_count": null,
      "metadata": {},
      "outputs": [],
      "source": [
        "print(kmeans.cluster_centers_)"
      ]
    },
    {
      "cell_type": "code",
      "execution_count": null,
      "metadata": {},
      "outputs": [],
      "source": [
        "print(kmeans.labels_)"
      ]
    },
    {
      "cell_type": "code",
      "execution_count": null,
      "metadata": {},
      "outputs": [],
      "source": [
        "plt.scatter(kmeans_X[:,0], kmeans_X[:,1], kmeans_X[:,2], c=kmeans.labels_, cmap='rainbow')\n",
        "plt.scatter(kmeans.cluster_centers_[:,0], kmeans.cluster_centers_[:,1], kmeans.cluster_centers_[:,2], color='black')\n",
        "plt.show();\n",
        "\n",
        "# Show Cluster and Centroid information below graph\n",
        "cluster_centroid_df = pd.DataFrame(kmeans.cluster_centers_).iloc[:,[1]].sort_values(by=[1], ascending=False).reset_index()\n",
        "cluster_centroid_df.rename(columns={'index': 'Cluster', 1:'Centroid'}, inplace=True)\n",
        "cluster_centroid_df.style.hide_index()"
      ]
    },
    {
      "cell_type": "code",
      "execution_count": null,
      "metadata": {},
      "outputs": [],
      "source": [
        "# add cluster information to data frame\n",
        "df = pd.concat([df, pd.DataFrame(kmeans.labels_)], axis=1)"
      ]
    },
    {
      "cell_type": "code",
      "execution_count": null,
      "metadata": {},
      "outputs": [],
      "source": [
        "# rename new column\n",
        "df.rename(columns={0:'Cluster'}, inplace=True)"
      ]
    },
    {
      "cell_type": "code",
      "execution_count": null,
      "metadata": {},
      "outputs": [],
      "source": [
        "cluster_cols = []\n",
        "\n",
        "for c in (set(df.Cluster)):\n",
        "    for cols in range(df.query(\"Cluster == @c\").select_dtypes('float64').shape[1]):\n",
        "        #print(df.query(\"Cluster == @c\").select_dtypes('float64').iloc[cols].mean())\n",
        "\n",
        "        cluster_cols.append({'Cluster': c,\n",
        "                             'Columns': df.query(\"Cluster == @c\").select_dtypes('float64').iloc[:,[cols]].columns.values[0],\n",
        "                             'Min': df.query(\"Cluster == @c\").select_dtypes('float64').iloc[:,[cols]].min().values[0],\n",
        "                             'Mean': df.query(\"Cluster == @c\").select_dtypes('float64').iloc[:,[cols]].mean().values[0],\n",
        "                             'Max': df.query(\"Cluster == @c\").select_dtypes('float64').iloc[:,[cols]].max().values[0]})\n",
        "\n",
        "\n",
        "pd.DataFrame(cluster_cols).style.hide_index().format(precision=2)\n",
        "# https://stackoverflow.com/questions/70329242/pandas-styler-does-not-maintain-rounding/70330004#70330004"
      ]
    },
    {
      "cell_type": "code",
      "execution_count": null,
      "metadata": {},
      "outputs": [],
      "source": [
        "df.Cluster.value_counts().plot(kind='bar', rot=0)\n",
        "\n",
        "plt.title('Clusters Distribution')\n",
        "\n",
        "plt.show();\n",
        "\n",
        "for k, v in (dict(df.Cluster.value_counts()).items()):\n",
        "    print('Cluster: ' + str(k) + '   Observations: ' + str(v) + '    Pct. of Total:  ' + str(v/len(df))[:-13]+' %')"
      ]
    },
    {
      "cell_type": "code",
      "execution_count": null,
      "metadata": {},
      "outputs": [],
      "source": [
        "# convert all feature dtypes to 'object'\n",
        "for k, v in (dict(df.dtypes).items()):\n",
        "    if v != 'object': # or k != 'column_name' if you prefer to omit a column by name\n",
        "        df[k] = df[k].astype('object')"
      ]
    },
    {
      "cell_type": "code",
      "execution_count": null,
      "metadata": {},
      "outputs": [],
      "source": [
        "df.dtypes"
      ]
    },
    {
      "cell_type": "code",
      "execution_count": null,
      "metadata": {},
      "outputs": [],
      "source": [
        "# total observations with missing information\n",
        "nulls_df = df.isnull().sum().to_frame().reset_index()\n",
        "nulls_df.columns=['Field', 'TotalNulls']\n",
        "\n",
        "# total rows in data frame by field\n",
        "field_totals_df = df.count().to_frame().reset_index()\n",
        "field_totals_df.columns=['Field', 'RowsWithData']\n",
        "\n",
        "# merge data together\n",
        "nulls_df = nulls_df.query(\"TotalNulls != 0\").merge(field_totals_df, left_on='Field', right_on='Field', how='inner')\n",
        "\n",
        "# percentage of Null rows\n",
        "nulls_df['PctNull'] = round(nulls_df.TotalNulls / nulls_df.RowsWithData,3)\n",
        "\n",
        "# result\n",
        "nulls_df.style.hide_index()"
      ]
    },
    {
      "cell_type": "code",
      "execution_count": null,
      "metadata": {},
      "outputs": [],
      "source": [
        "# drop observations missing data and resulting shape\n",
        "print('Original shape:                  ', df.shape)\n",
        "\n",
        "df.dropna(inplace=True)\n",
        "print('Shape after dropping null values:', df.shape)"
      ]
    },
    {
      "cell_type": "code",
      "execution_count": null,
      "metadata": {},
      "outputs": [],
      "source": [
        "# final check for missing information\n",
        "for n in (set(df.isnull().sum())):\n",
        "    if n == 0:\n",
        "        print('There is no more missing information')\n",
        "    else:\n",
        "        print('There is still missing information')"
      ]
    },
    {
      "cell_type": "code",
      "execution_count": null,
      "metadata": {
        "colab": {
          "base_uri": "https://localhost:8080/",
          "height": 269
        },
        "id": "A4funRkckP-O",
        "outputId": "11263911-3f52-4aa8-f844-9c37aad3bf79"
      },
      "outputs": [],
      "source": []
    },
    {
      "cell_type": "code",
      "execution_count": null,
      "metadata": {
        "colab": {
          "base_uri": "https://localhost:8080/"
        },
        "id": "Xhmhm3uckU6o",
        "outputId": "6273c15d-0ba3-47dc-877e-e3ee50c9848a"
      },
      "outputs": [],
      "source": [
        "# Value counts for t_coliform, to determine how to treat missing values\n",
        "# the value '<' is being used, as it is included in data set, and being applied to missing values as well.\n",
        "# According to data dictionary, only values A and P are valid\n",
        "print(df.t_coliform.fillna(\"blank\").value_counts())\n",
        "\n",
        "# Values A and P are valid according to dictionary, \"missing\" and \"<\" values will be removed\n",
        "# Update 't_coliform' with \"<\" so that it is easier to delete in next step\n",
        "df['t_coliform'] = df.t_coliform.fillna(\"<\")\n",
        "\n",
        "# Since missing values and \"<\" are not in data dictionary; delete rows\n",
        "df = df.query(\"t_coliform != '<'\")\n",
        "print(\"\\n\",\"df shape after dropping t_coliform invalid rows:\")\n",
        "print(df.shape)\n",
        "\n",
        "# Missing values re-check\n",
        "print(\"\\n\")\n",
        "print(df.t_coliform.fillna(\"<\").value_counts())"
      ]
    },
    {
      "cell_type": "code",
      "execution_count": null,
      "metadata": {
        "id": "h9peTo82kipC"
      },
      "outputs": [],
      "source": [
        "# Data conversion\n",
        "df['date_sampled'] =  pd.to_datetime(df.date_sampled)"
      ]
    },
    {
      "cell_type": "code",
      "execution_count": null,
      "metadata": {},
      "outputs": [],
      "source": [
        "# if able to gain access to weather data, it would need to be between these date ranges\n",
        "print('date_sampled min date:', df.date_sampled.min().strftime(\"%Y-%d-%m\"))\n",
        "print('date_sampled max date:', df.date_sampled.max().strftime(\"%Y-%d-%m\"))"
      ]
    },
    {
      "cell_type": "code",
      "execution_count": null,
      "metadata": {
        "colab": {
          "base_uri": "https://localhost:8080/"
        },
        "id": "7br-3E69kjzA",
        "outputId": "cf12e84d-899d-4331-af2f-0ec1545870b5"
      },
      "outputs": [],
      "source": [
        "print('''A value_counts for sample_id shows that there \n",
        "are multiple rows per sample_id:''')\n",
        "df.sample_id.value_counts().head()"
      ]
    },
    {
      "cell_type": "code",
      "execution_count": null,
      "metadata": {},
      "outputs": [],
      "source": []
    },
    {
      "cell_type": "code",
      "execution_count": null,
      "metadata": {},
      "outputs": [],
      "source": []
    },
    {
      "cell_type": "code",
      "execution_count": null,
      "metadata": {
        "id": "rHdiOSkzkyhv"
      },
      "outputs": [],
      "source": []
    },
    {
      "cell_type": "code",
      "execution_count": null,
      "metadata": {},
      "outputs": [],
      "source": []
    },
    {
      "cell_type": "code",
      "execution_count": null,
      "metadata": {
        "id": "HpH5D7Xwk8ev"
      },
      "outputs": [],
      "source": []
    },
    {
      "cell_type": "code",
      "execution_count": null,
      "metadata": {
        "id": "UyAnkO5slb2n"
      },
      "outputs": [],
      "source": []
    },
    {
      "cell_type": "code",
      "execution_count": null,
      "metadata": {
        "colab": {
          "base_uri": "https://localhost:8080/"
        },
        "id": "-9VpE2vhldvu",
        "outputId": "a08f0183-38cc-433e-80e2-46cf074777df"
      },
      "outputs": [],
      "source": []
    },
    {
      "cell_type": "code",
      "execution_count": null,
      "metadata": {
        "colab": {
          "base_uri": "https://localhost:8080/",
          "height": 53
        },
        "id": "mIekaUznlgjr",
        "outputId": "49a2c29c-d69e-41a6-b11a-7df3164425d6"
      },
      "outputs": [],
      "source": []
    },
    {
      "cell_type": "code",
      "execution_count": null,
      "metadata": {},
      "outputs": [],
      "source": []
    },
    {
      "cell_type": "code",
      "execution_count": null,
      "metadata": {
        "colab": {
          "base_uri": "https://localhost:8080/"
        },
        "id": "TH3nc59TmccZ",
        "outputId": "e3ed907a-7a84-4275-a0df-bc072a034552"
      },
      "outputs": [],
      "source": []
    },
    {
      "cell_type": "code",
      "execution_count": null,
      "metadata": {},
      "outputs": [],
      "source": [
        "# Based on the results from the above, it appears the data is ordered by date_sampled\n",
        "\n",
        "# To ensure that all rows are following this pattern, the next step will \n",
        "# sort rows by date_sampled, source, and sample_id to get a chronological, to prepare for Time Series analysis\n",
        "\n",
        "df.sort_values(['date_sampled', 'FR_NUM'], ascending=[True, True], inplace=True)"
      ]
    },
    {
      "cell_type": "code",
      "execution_count": null,
      "metadata": {},
      "outputs": [],
      "source": [
        "# reset index, drop original index\n",
        "df.reset_index(drop=True, inplace=True)"
      ]
    },
    {
      "cell_type": "code",
      "execution_count": null,
      "metadata": {},
      "outputs": [],
      "source": [
        "# ph ranges, as defined in data dictionary section\n",
        "df['ph_type'] = np.where(round(df.ph) == 7, 'ph_Neutral',\n",
        "                np.where(round(df.ph) < 7, 'ph_Acidity',\n",
        "                np.where(round(df.ph) > 7, 'ph_Basic', 'ph_Missing')))\n",
        "\n",
        "# validate ph ranges to ph_types\n",
        "ph_validation_df = df[['ph_type', 'ph']].value_counts().to_frame(name='Counts').reset_index()[['ph_type', 'ph']]\n",
        "ph_validation_df['ph_round'] = round(ph_validation_df.ph)\n",
        "\n",
        "pd.DataFrame(dict(ph_validation_df[['ph_type', 'ph_round']])).drop_duplicates().sort_values(by='ph_round').set_index('ph_round')"
      ]
    },
    {
      "cell_type": "code",
      "execution_count": null,
      "metadata": {},
      "outputs": [],
      "source": [
        "# ph_type dummies\n",
        "df = pd.concat([df,pd.get_dummies(df.ph_type)], axis=1)\n",
        "\n",
        "# t_coliform dummies\n",
        "df = pd.concat([df,pd.get_dummies(df.t_coliform)], axis=1)\n",
        "df.rename(columns={'A':'t_coliform_A', 'P':'t_coliform_P'}, inplace=True)\n",
        "\n",
        "print(df.shape)\n",
        "df.sample(3)"
      ]
    },
    {
      "cell_type": "code",
      "execution_count": null,
      "metadata": {},
      "outputs": [],
      "source": [
        "# Given that ph_Basic contains the majority of the information for ph types, the other two and ph_type will be dropped\n",
        "df.ph_type.value_counts()"
      ]
    },
    {
      "cell_type": "code",
      "execution_count": null,
      "metadata": {},
      "outputs": [],
      "source": [
        "# drop ph related columns as explained in chunk above\n",
        "df.drop(columns=['ph_Neutral', 'ph_Acidity', 'ph_type'], inplace=True)"
      ]
    },
    {
      "cell_type": "code",
      "execution_count": null,
      "metadata": {},
      "outputs": [],
      "source": [
        "# Given that t_coliform values of 'A' are dominant in the data set, t_coliform_P will be dropped, along with t_coliform\n",
        "df.t_coliform.value_counts()"
      ]
    },
    {
      "cell_type": "code",
      "execution_count": null,
      "metadata": {},
      "outputs": [],
      "source": [
        "# drop t_coliform related columns as explained in chunk above\n",
        "df.drop(columns=['t_coliform_P', 't_coliform'], inplace=True)"
      ]
    },
    {
      "cell_type": "code",
      "execution_count": null,
      "metadata": {},
      "outputs": [],
      "source": [
        "# given that all values in the e_coli feature are one single value, e_coli will be dropped from the data set,\n",
        "# as its lack of variation, does not offer insight to the data set\n",
        "df.e_coli.value_counts()"
      ]
    },
    {
      "cell_type": "code",
      "execution_count": null,
      "metadata": {},
      "outputs": [],
      "source": [
        "# drop e_coli per explanation in chunk above\n",
        "df.drop(columns=['e_coli'], inplace=True)"
      ]
    },
    {
      "cell_type": "code",
      "execution_count": null,
      "metadata": {},
      "outputs": [],
      "source": [
        "df.sample(3)"
      ]
    },
    {
      "attachments": {},
      "cell_type": "markdown",
      "metadata": {
        "id": "mw_NbqFvmfpV"
      },
      "source": [
        "#### Outliers\n"
      ]
    },
    {
      "cell_type": "code",
      "execution_count": null,
      "metadata": {
        "id": "aZYBqCqlmhf0"
      },
      "outputs": [],
      "source": [
        "# Outlier Analysis\n",
        "\n",
        "# this function idea is from the Udemy \"Feature Engineering for Machine Learning\" course\n",
        "def diagnostic_plots(df, variable, conversion):\n",
        "    # function takes a dataframe and\n",
        "    # the variable of interest\n",
        "\n",
        "    # variable conversion\n",
        "    if conversion == 'l':\n",
        "        conv_var = np.log(df[variable])\n",
        "        print('conversion: log')\n",
        "    elif conversion == 's':\n",
        "        conv_var = np.sqrt(df[variable])\n",
        "        print('conversion: sqrt')\n",
        "    elif conversion == 'c':\n",
        "        conv_var = np.cbrt(df[variable])\n",
        "        print('conversion: cbrt')\n",
        "    elif conversion == 'a':\n",
        "        conv_var = np.abs(df[variable])\n",
        "        print('conversion: abs')\n",
        "    else:\n",
        "        conv_var = df[variable]\n",
        "        print('conversion: none')    \n",
        "\n",
        "    # define plot figure size\n",
        "    plt.figure(figsize=(14,3))\n",
        "\n",
        "    # histogram\n",
        "    plt.subplot(1,3,1)\n",
        "    sns.distplot(conv_var, bins=30)\n",
        "    plt.title('Histogram')\n",
        "\n",
        "    # Q-Q plot\n",
        "    plt.subplot(1,3,2)\n",
        "    stats.probplot(conv_var, dist=\"norm\", plot=plt)\n",
        "    plt.ylabel('RM quantiles')\n",
        "\n",
        "    # boxplot\n",
        "    plt.subplot(1,3,3)\n",
        "    sns.boxplot(y=conv_var)\n",
        "    plt.title('Boxplot')\n",
        "\n",
        "    plt.show()"
      ]
    },
    {
      "cell_type": "code",
      "execution_count": null,
      "metadata": {
        "id": "zuJqVhrcmlBo"
      },
      "outputs": [],
      "source": [
        "# Function to find outliers by their respective high and low boundary, Gaussian distribution\n",
        "# Got this idea from same Udemy video mentioned above\n",
        "def find_normal_boundaries(df, variable, distance):\n",
        "\n",
        "    upper_boundary = df[variable].mean() + distance * df[variable].std()\n",
        "    lower_boundary = df[variable].mean() - distance * df[variable].std()\n",
        "\n",
        "    return lower_boundary, upper_boundary"
      ]
    },
    {
      "cell_type": "code",
      "execution_count": null,
      "metadata": {},
      "outputs": [],
      "source": [
        "# dictionary with conversion options\n",
        "conversion_options = {'l': 'log', 's': 'sqrt', 'c': 'cbrt', 'a': 'abs'}\n",
        "\n",
        "# print conversion options, key and values\n",
        "for kv in (conversion_options.items()):\n",
        "    print(kv)"
      ]
    },
    {
      "cell_type": "markdown",
      "metadata": {},
      "source": [
        "#### cl2_total"
      ]
    },
    {
      "cell_type": "code",
      "execution_count": null,
      "metadata": {},
      "outputs": [],
      "source": [
        "for conversion_type in (set(conversion_options.keys())):\n",
        "    diagnostic_plots(df, 'cl2_total', conversion_type)"
      ]
    },
    {
      "cell_type": "code",
      "execution_count": null,
      "metadata": {},
      "outputs": [],
      "source": [
        "print('''The absolute value of cl2_total will be used as it has the best spread.\n",
        "To address the outlier on the upper range, it will go through transformation in the next step''')"
      ]
    },
    {
      "cell_type": "code",
      "execution_count": null,
      "metadata": {},
      "outputs": [],
      "source": [
        "# find lower and upper boundaries of 'cl2_total'\n",
        "temperature_lower_limit, temperature_upper_limit = find_normal_boundaries(df, 'cl2_total', 3)\n",
        "\n",
        "# Apply boundaries to outliers\n",
        "df['cl2_total'] = np.where(df['cl2_total'] > temperature_upper_limit, temperature_upper_limit,\n",
        "                     np.where(df['cl2_total'] < temperature_lower_limit, temperature_lower_limit,\n",
        "                      df['cl2_total']))"
      ]
    },
    {
      "cell_type": "code",
      "execution_count": null,
      "metadata": {},
      "outputs": [],
      "source": [
        "for conversion_type in (set(conversion_options.keys())):\n",
        "    diagnostic_plots(df, 'cl2_total', conversion_type)"
      ]
    },
    {
      "cell_type": "code",
      "execution_count": null,
      "metadata": {},
      "outputs": [],
      "source": [
        "print('''After transformation, the cl2_total absolute value remains the best representation.\n",
        "The outliers in the upper range were compressed, which in turn makes better use of its entire range.''')"
      ]
    },
    {
      "cell_type": "markdown",
      "metadata": {},
      "source": [
        "#### temperature"
      ]
    },
    {
      "cell_type": "code",
      "execution_count": null,
      "metadata": {},
      "outputs": [],
      "source": [
        "for conversion_type in (set(conversion_options.keys())):\n",
        "    diagnostic_plots(df, 'temperature', conversion_type)"
      ]
    },
    {
      "cell_type": "code",
      "execution_count": null,
      "metadata": {},
      "outputs": [],
      "source": [
        "print(''' temperature will keep its absolute value and not go through transformation''')"
      ]
    },
    {
      "cell_type": "markdown",
      "metadata": {},
      "source": [
        "#### ph"
      ]
    },
    {
      "cell_type": "code",
      "execution_count": null,
      "metadata": {
        "colab": {
          "base_uri": "https://localhost:8080/",
          "height": 456
        },
        "id": "qWfjjaKkm1VJ",
        "outputId": "570f53c9-d1ff-48d5-d12e-213579c51815"
      },
      "outputs": [],
      "source": [
        "for conversion_type in (set(conversion_options.keys())):\n",
        "    diagnostic_plots(df, 'ph', conversion_type)"
      ]
    },
    {
      "cell_type": "code",
      "execution_count": null,
      "metadata": {},
      "outputs": [],
      "source": [
        "print('''cube root and square root conversions put the mean of the data in the middle.\n",
        "The spread can benefit from adjusting its boundaries''')"
      ]
    },
    {
      "cell_type": "code",
      "execution_count": null,
      "metadata": {
        "id": "g1MVCUMCm4IE"
      },
      "outputs": [],
      "source": [
        "# find lower and upper boundaries of 'ph'\n",
        "ph_lower_limit, ph_upper_limit = find_normal_boundaries(df, 'ph', 3)\n",
        "\n",
        "# Apply boundaries to outliers\n",
        "df['ph'] = np.where(df['ph'] > ph_upper_limit, ph_upper_limit,\n",
        "                     np.where(df['ph'] < ph_lower_limit, ph_lower_limit,\n",
        "                      df['ph']))"
      ]
    },
    {
      "cell_type": "code",
      "execution_count": null,
      "metadata": {
        "colab": {
          "base_uri": "https://localhost:8080/",
          "height": 456
        },
        "id": "tnGl_XsPm8Hl",
        "outputId": "83b9eb0e-2bdf-4737-a726-fd3f5655caeb"
      },
      "outputs": [],
      "source": [
        "for conversion_type in (set(conversion_options.keys())):\n",
        "    diagnostic_plots(df, 'ph', conversion_type)"
      ]
    },
    {
      "cell_type": "code",
      "execution_count": null,
      "metadata": {},
      "outputs": [],
      "source": [
        "print('''The boundaries modification benefitted the square root conversion best. \n",
        "It not only helped its horizontal range, but also compressed the frequency range.''')"
      ]
    },
    {
      "cell_type": "code",
      "execution_count": null,
      "metadata": {},
      "outputs": [],
      "source": [
        "# conversion of ph to its square root\n",
        "df.ph = np.sqrt(df.ph)"
      ]
    },
    {
      "cell_type": "markdown",
      "metadata": {},
      "source": [
        "#### Scatter plots"
      ]
    },
    {
      "cell_type": "code",
      "execution_count": null,
      "metadata": {},
      "outputs": [],
      "source": [
        "sns.pairplot(df.select_dtypes(include=['float64']))#, hue='yearMonth_t_coli_pct')\n",
        "plt.show()"
      ]
    },
    {
      "cell_type": "markdown",
      "metadata": {},
      "source": [
        "#### Correlation Matrix"
      ]
    },
    {
      "cell_type": "code",
      "execution_count": null,
      "metadata": {},
      "outputs": [],
      "source": [
        "# Correlation Matrix\n",
        "pearsoncorr = df.select_dtypes(include=['float64']).corr(method='pearson')\n",
        "\n",
        "plt.figure(figsize= (5, 3))\n",
        "\n",
        "sns.heatmap(pearsoncorr,\n",
        "            xticklabels=pearsoncorr.columns,\n",
        "            yticklabels=pearsoncorr.columns,\n",
        "            cmap='coolwarm',\n",
        "            fmt=\".2f\",\n",
        "            annot=True,\n",
        "            linewidth=0.25)"
      ]
    },
    {
      "cell_type": "code",
      "execution_count": null,
      "metadata": {},
      "outputs": [],
      "source": [
        "print('''\n",
        "The float64 columns do not seem to have a relationship with one another, in the scatter plots; however,\n",
        "the Correlation Matrix show a relationship between ph and cl2_total, at a value of 0.35. ''')"
      ]
    },
    {
      "cell_type": "markdown",
      "metadata": {},
      "source": [
        "#### Time Series Analysis"
      ]
    },
    {
      "cell_type": "code",
      "execution_count": null,
      "metadata": {},
      "outputs": [],
      "source": [
        "from statsmodels.tsa.seasonal import seasonal_decompose"
      ]
    },
    {
      "cell_type": "code",
      "execution_count": null,
      "metadata": {},
      "outputs": [],
      "source": [
        "# add a feature for year from 'date_sampled' value\n",
        "df['year'] = pd.DatetimeIndex(df.date_sampled).year\n",
        "\n",
        "# add a feature for month from 'date_sampled' value\n",
        "df['month'] = pd.DatetimeIndex(df.date_sampled).month\n",
        "\n",
        "# add a feature to contain month and year\n",
        "df['month_year'] = df.date_sampled.dt.to_period('M')"
      ]
    },
    {
      "cell_type": "code",
      "execution_count": null,
      "metadata": {},
      "outputs": [],
      "source": [
        "df.sample(3)"
      ]
    },
    {
      "cell_type": "markdown",
      "metadata": {},
      "source": [
        "#### cl2_total Time Series"
      ]
    },
    {
      "cell_type": "code",
      "execution_count": null,
      "metadata": {},
      "outputs": [],
      "source": [
        "# load data\n",
        "cl2_ts_df = df[['date_sampled', 'cl2_total']]\n",
        "\n",
        "# set index to date\n",
        "cl2_ts_df.set_index('date_sampled', inplace=True)"
      ]
    },
    {
      "cell_type": "code",
      "execution_count": null,
      "metadata": {},
      "outputs": [],
      "source": [
        "cl2_seasonal_decompose = seasonal_decompose(x=cl2_ts_df['cl2_total'], period=2)\n",
        "\n",
        "fig = cl2_seasonal_decompose.plot()\n",
        "fig.set_size_inches((16, 9))\n",
        "# Tight layout to realign things\n",
        "fig.tight_layout()\n",
        "plt.show();"
      ]
    },
    {
      "cell_type": "markdown",
      "metadata": {},
      "source": [
        "#### temperature Time Series"
      ]
    },
    {
      "cell_type": "code",
      "execution_count": null,
      "metadata": {},
      "outputs": [],
      "source": [
        "# load data\n",
        "temp_ts_df = df[['date_sampled', 'temperature']]\n",
        "\n",
        "# set index to date\n",
        "temp_ts_df.set_index('date_sampled', inplace=True)"
      ]
    },
    {
      "cell_type": "code",
      "execution_count": null,
      "metadata": {},
      "outputs": [],
      "source": [
        "temp_seasonal_decompose = seasonal_decompose(x=temp_ts_df['temperature'], period=2)\n",
        "\n",
        "fig = temp_seasonal_decompose.plot()\n",
        "fig.set_size_inches((16, 9))\n",
        "# Tight layout to realign things\n",
        "fig.tight_layout()\n",
        "plt.show();"
      ]
    },
    {
      "cell_type": "markdown",
      "metadata": {},
      "source": [
        "#### ph Time Series"
      ]
    },
    {
      "cell_type": "code",
      "execution_count": null,
      "metadata": {},
      "outputs": [],
      "source": [
        "# load data\n",
        "ph_ts_df = df[['date_sampled', 'ph']]\n",
        "\n",
        "# set index to date\n",
        "ph_ts_df.set_index('date_sampled', inplace=True)"
      ]
    },
    {
      "cell_type": "code",
      "execution_count": null,
      "metadata": {},
      "outputs": [],
      "source": [
        "ph_seasonal_decompose = seasonal_decompose(x=ph_ts_df['ph'], period=2)\n",
        "\n",
        "fig = ph_seasonal_decompose.plot()\n",
        "fig.set_size_inches((16, 9))\n",
        "# Tight layout to realign things\n",
        "fig.tight_layout()\n",
        "plt.show();"
      ]
    },
    {
      "cell_type": "markdown",
      "metadata": {},
      "source": [
        "#### Test and Train Data Split"
      ]
    },
    {
      "cell_type": "code",
      "execution_count": null,
      "metadata": {},
      "outputs": [],
      "source": [
        "from sklearn.model_selection import train_test_split"
      ]
    },
    {
      "attachments": {},
      "cell_type": "markdown",
      "metadata": {
        "id": "YaFSWqG3nHkk"
      },
      "source": [
        "#### Business purpose (from website)\n",
        "\n",
        "* A positive result for coliform from one single test is not enough to constitute an MCL (Maximum Contaminant Level) violation. An acute violation occurs when a site that initially tested positive is repeat tested and either the initial sample or one of the repeat samples is positive for E. coli. A monthly MCL violation occurs if more than 5 percent of all routine and repeat tests are coliform positive. A positive coliform result from a single routine test may be due to sampling error or bacteria in the testing mechanism but not in the drinking water pipes."
      ]
    },
    {
      "cell_type": "code",
      "execution_count": null,
      "metadata": {
        "colab": {
          "base_uri": "https://localhost:8080/"
        },
        "id": "2EoYNyfbndmS",
        "outputId": "f0f404e0-8848-4c15-df76-c0770033a688"
      },
      "outputs": [],
      "source": [
        "print('''There are no acute violations in the dataset, as all e_coli values equal 'A' \n",
        "across all {} rows, which is 'absent' e_coli.'''.format(pd.DataFrame(df.e_coli.value_counts()).iloc[0].values[0]))\n",
        "\n",
        "df.e_coli.value_counts()"
      ]
    },
    {
      "cell_type": "code",
      "execution_count": null,
      "metadata": {
        "colab": {
          "base_uri": "https://localhost:8080/"
        },
        "id": "pktzastQnn5K",
        "outputId": "b91e2fa6-e48d-4e30-d64a-a90343c6aa18"
      },
      "outputs": [],
      "source": [
        "print('''A monthly MCL violation occurs if more than 5 percent of all routine and repeat tests are coliform positive. \n",
        "We have 'P', present, values in the t_coliform feature.''',\"\\n\")\n",
        "\n",
        "df.t_coliform.value_counts()"
      ]
    },
    {
      "attachments": {},
      "cell_type": "markdown",
      "metadata": {
        "id": "q1TaLy_YnuT4"
      },
      "source": [
        "#### Feature Engineering\n"
      ]
    },
    {
      "cell_type": "code",
      "execution_count": null,
      "metadata": {
        "id": "8vkYm7bxnwQ4"
      },
      "outputs": [],
      "source": [
        "# Adding a month-year value to best identify MCL violations\n",
        "df['year'] = pd.DatetimeIndex(df.date_sampled).year\n",
        "df['month'] = pd.DatetimeIndex(df.date_sampled).month\n",
        "df['yearMonth'] =  df.year.astype(str) + '-' + df.month.astype(str)"
      ]
    },
    {
      "cell_type": "code",
      "execution_count": null,
      "metadata": {
        "id": "777iW-nBnyf4"
      },
      "outputs": [],
      "source": [
        "# Identify yearMonth where t_coliform was Present, 'P'\n",
        "ym_df = pd.DataFrame(df.query(\"t_coliform == 'P'\").yearMonth.unique())\n",
        "ym_df.columns = ['yearMonth']\n",
        "\n",
        "# Get all data from df for yearMonth where there was t_coliform present\n",
        "ym_df = df.merge(ym_df, left_on='yearMonth', right_on='yearMonth', how='inner')"
      ]
    },
    {
      "cell_type": "code",
      "execution_count": null,
      "metadata": {
        "id": "HlOzBvLTn5bH"
      },
      "outputs": [],
      "source": [
        "# Crosstab results, into dataframe\n",
        "ym_df = pd.DataFrame(pd.crosstab(ym_df.yearMonth, ym_df.t_coliform)).reset_index()\n",
        "\n",
        "# Add a Total column\n",
        "ym_df['Total'] = ym_df.A + ym_df.P\n",
        "\n",
        "# Add a t_coli percent column, representing the percentage of cases in the month, when t_coli was Present\n",
        "ym_df['yearMonth_t_coli_pct'] = round(ym_df.P / ym_df.Total * 100)"
      ]
    },
    {
      "cell_type": "code",
      "execution_count": null,
      "metadata": {
        "id": "vMDvbWCDn8xN"
      },
      "outputs": [],
      "source": [
        "# Add yearMonth_t_coli_pct to main dataframe\n",
        "df = df.merge(ym_df[['yearMonth', 'yearMonth_t_coli_pct']], left_on='yearMonth', right_on='yearMonth', how='left')\n",
        "\n",
        "# Update Nan values to 0.0\n",
        "df['yearMonth_t_coli_pct'] = df.yearMonth_t_coli_pct.fillna(0.0)\n",
        "\n",
        "\n",
        "# Convert floats to integer\n",
        "df['yearMonth_t_coli_pct'] = df.yearMonth_t_coli_pct.astype(int)"
      ]
    },
    {
      "cell_type": "code",
      "execution_count": null,
      "metadata": {
        "colab": {
          "base_uri": "https://localhost:8080/"
        },
        "id": "4zZvxkVin-90",
        "outputId": "be6bc677-dd32-4df3-c7b8-7974dad37b11"
      },
      "outputs": [],
      "source": [
        "print('''There are no t_coliform instances per Month, of more than 5% in the dataset.\n",
        "When present, it has equaled as high as 1% for the respective month only.''',\"\\n\")\n",
        "df.yearMonth_t_coli_pct.value_counts()"
      ]
    },
    {
      "attachments": {},
      "cell_type": "markdown",
      "metadata": {
        "id": "KIqrugP7oFRP"
      },
      "source": [
        "### EDA\n"
      ]
    },
    {
      "attachments": {},
      "cell_type": "markdown",
      "metadata": {},
      "source": [
        "##### Subset"
      ]
    },
    {
      "cell_type": "code",
      "execution_count": null,
      "metadata": {},
      "outputs": [],
      "source": [
        "df_subset = df[['date_sampled', 't_coliform', 'cl2_total', 'e_coli', 'temperature', 'ph', 'yearMonth_t_coli_pct']]\n",
        "\n",
        "df_subset"
      ]
    },
    {
      "attachments": {},
      "cell_type": "markdown",
      "metadata": {},
      "source": [
        "##### Get dummies"
      ]
    },
    {
      "cell_type": "code",
      "execution_count": null,
      "metadata": {},
      "outputs": [],
      "source": [
        "df_dummies = pd.get_dummies(df_subset.select_dtypes(include='object'))\n",
        "\n",
        "# join uses index as default on join\n",
        "df_subset = df_subset.join(df_dummies, how='outer')\n",
        "\n",
        "# drop 'object' columns\n",
        "df_subset.drop(columns=df_subset.select_dtypes(include='object').columns.tolist(), inplace=True)\n",
        "\n",
        "df_subset"
      ]
    },
    {
      "attachments": {},
      "cell_type": "markdown",
      "metadata": {},
      "source": [
        "#### get dummies for year"
      ]
    },
    {
      "cell_type": "code",
      "execution_count": null,
      "metadata": {},
      "outputs": [],
      "source": [
        "### get dummies for year"
      ]
    },
    {
      "attachments": {},
      "cell_type": "markdown",
      "metadata": {},
      "source": [
        "##### Target variable imbalance"
      ]
    },
    {
      "cell_type": "code",
      "execution_count": null,
      "metadata": {},
      "outputs": [],
      "source": [
        "df_subset.yearMonth_t_coli_pct.value_counts().plot(kind='bar', rot=0)\n",
        "plt.xlabel('Imbalance in yearMonth_t_coli_pct')\n",
        "plt.show()"
      ]
    },
    {
      "attachments": {},
      "cell_type": "markdown",
      "metadata": {},
      "source": [
        "#### Balance target"
      ]
    },
    {
      "cell_type": "code",
      "execution_count": null,
      "metadata": {},
      "outputs": [],
      "source": [
        "df_subset.yearMonth_t_coli_pct"
      ]
    },
    {
      "attachments": {},
      "cell_type": "markdown",
      "metadata": {},
      "source": [
        "##### Pairplot of numerical variables"
      ]
    },
    {
      "cell_type": "code",
      "execution_count": null,
      "metadata": {},
      "outputs": [],
      "source": [
        "sns.pairplot(df_subset.select_dtypes(include=['float64', 'int64', 'int32']), hue='yearMonth_t_coli_pct')\n",
        "plt.show()"
      ]
    },
    {
      "attachments": {},
      "cell_type": "markdown",
      "metadata": {
        "id": "3np-mJqsstiT"
      },
      "source": [
        "### Create a Target classifier, representing a source that had t_coliform present at any point in the dataset.\n",
        "### source_t_coliform_historically"
      ]
    },
    {
      "cell_type": "code",
      "execution_count": null,
      "metadata": {
        "id": "pwk5bzWh011o"
      },
      "outputs": [],
      "source": [
        "# Identify 'source' which has had t_coliform in the past\n",
        "source_df = pd.DataFrame(df.query(\"t_coliform == 'P'\").source.unique())\n",
        "source_df.columns = ['source']\n",
        "source_df['source_t_coliform_historically'] = 1"
      ]
    },
    {
      "cell_type": "code",
      "execution_count": null,
      "metadata": {
        "id": "Xwm39p932OmX"
      },
      "outputs": [],
      "source": [
        "# Merge source_df into main dataframe\n",
        "df = df.merge(source_df, left_on='source', right_on='source', how='left')\n",
        "\n",
        "# Convert missing values to 0\n",
        "df['source_t_coliform_historically'] = df.source_t_coliform_historically.fillna(0)\n",
        "\n",
        "# Convert to int\n",
        "df['source_t_coliform_historically'] = df.source_t_coliform_historically.astype(int)"
      ]
    },
    {
      "cell_type": "code",
      "execution_count": null,
      "metadata": {
        "id": "fDxHGoLR3AJy"
      },
      "outputs": [],
      "source": [
        "# initiate sklearn LabelEncoder\n",
        "le = preprocessing.LabelEncoder()\n",
        "\n",
        "# LabelEncoder 'source' feature\n",
        "le.fit(df['source'])\n",
        "df['source_le'] =  le.transform(df['source'])\n",
        "\n",
        "# LabelEncoder 'yearMonth' feature\n",
        "le.fit(df['yearMonth'])\n",
        "df['yearMonth_le'] =  le.transform(df['yearMonth'])"
      ]
    },
    {
      "cell_type": "code",
      "execution_count": null,
      "metadata": {
        "id": "bqTZ3iaABPTT"
      },
      "outputs": [],
      "source": [
        "# Binary values for t_coliform\n",
        "df['t_coliform_bin'] = np.where(df.t_coliform == 'A', 0, 1)"
      ]
    },
    {
      "attachments": {},
      "cell_type": "markdown",
      "metadata": {
        "id": "HUc1ZX7HG_WE"
      },
      "source": [
        "## Proposed target variable"
      ]
    },
    {
      "cell_type": "code",
      "execution_count": null,
      "metadata": {
        "colab": {
          "base_uri": "https://localhost:8080/",
          "height": 446
        },
        "id": "A6Dw9C7Hs1Y5",
        "outputId": "a44c3116-cfe9-444c-d526-b7eea9c7776f"
      },
      "outputs": [],
      "source": [
        "# More than half of the \"sources\" have had t_coliform present at some point\n",
        "pd.DataFrame(df.source_t_coliform_historically.value_counts()).plot.bar(rot=0, stacked=True, figsize=(10,7))"
      ]
    },
    {
      "cell_type": "code",
      "execution_count": null,
      "metadata": {
        "colab": {
          "base_uri": "https://localhost:8080/",
          "height": 676
        },
        "id": "gCF9KlOwCE3M",
        "outputId": "f88e5a7c-9333-453a-eaa5-6944d7d3a7f9"
      },
      "outputs": [],
      "source": [
        "print('''This graph shows ticks for the year when a label encoded source, had t_coliform present,\n",
        "between the years 2015 through 2018. This is in effort to try and recognize patterns of recurring \n",
        "t_coliform at specific sources during this stretch of time.''',\"\\n\")\n",
        "\n",
        "sns.catplot(data=df.query(\"t_coliform_bin == 1 and year <= 2018 and year >= 2015\"), x='year', y='source_le', s=10, height=8.27, aspect=11.7/8.27)\n",
        "sns.set_style(\"ticks\",{'axes.grid' : True})"
      ]
    },
    {
      "cell_type": "code",
      "execution_count": null,
      "metadata": {
        "colab": {
          "base_uri": "https://localhost:8080/",
          "height": 588
        },
        "id": "MDXjPVdJuAYV",
        "outputId": "59086614-7b38-4766-b9ea-4bb0de707c3e"
      },
      "outputs": [],
      "source": [
        "# Correlation Matrix\n",
        "pearsoncorr = df.corr(method='pearson')\n",
        "\n",
        "plt.figure(figsize= (10, 7))\n",
        "\n",
        "sns.heatmap(pearsoncorr,\n",
        "            xticklabels=pearsoncorr.columns,\n",
        "            yticklabels=pearsoncorr.columns,\n",
        "            cmap='coolwarm',\n",
        "            fmt=\".2f\",\n",
        "            annot=True,\n",
        "            linewidth=0.25)"
      ]
    }
  ],
  "metadata": {
    "colab": {
      "provenance": []
    },
    "kernelspec": {
      "display_name": "ADS500B",
      "language": "python",
      "name": "python3"
    },
    "language_info": {
      "codemirror_mode": {
        "name": "ipython",
        "version": 3
      },
      "file_extension": ".py",
      "mimetype": "text/x-python",
      "name": "python",
      "nbconvert_exporter": "python",
      "pygments_lexer": "ipython3",
      "version": "3.9.1"
    },
    "vscode": {
      "interpreter": {
        "hash": "825b169ead5425ab9c11ee5e096a5f1a55556c473f665a7d4b61995ef3804c6b"
      }
    }
  },
  "nbformat": 4,
  "nbformat_minor": 0
}
